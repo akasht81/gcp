{
 "cells": [
  {
   "cell_type": "code",
   "execution_count": null,
   "metadata": {
    "id": "ur8xi4C7S06n"
   },
   "outputs": [],
   "source": [
    "# Copyright 2024 Google LLC\n",
    "#\n",
    "# Licensed under the Apache License, Version 2.0 (the \"License\");\n",
    "# you may not use this file except in compliance with the License.\n",
    "# You may obtain a copy of the License at\n",
    "#\n",
    "#     https://www.apache.org/licenses/LICENSE-2.0\n",
    "#\n",
    "# Unless required by applicable law or agreed to in writing, software\n",
    "# distributed under the License is distributed on an \"AS IS\" BASIS,\n",
    "# WITHOUT WARRANTIES OR CONDITIONS OF ANY KIND, either express or implied.\n",
    "# See the License for the specific language governing permissions and\n",
    "# limitations under the License."
   ]
  },
  {
   "cell_type": "markdown",
   "metadata": {
    "id": "JAPoU8Sm5E6e"
   },
   "source": [
    "# Prompt Design - Best Practices\n",
    "\n",
    "<table align=\"left\">\n",
    "  <td style=\"text-align: center\">\n",
    "    <a href=\"https://colab.research.google.com/github/GoogleCloudPlatform/generative-ai/blob/main/gemini/prompts/intro_prompt_design.ipynb\">\n",
    "      <img src=\"https://cloud.google.com/ml-engine/images/colab-logo-32px.png\" alt=\"Google Colaboratory logo\"><br> Open in Colab\n",
    "    </a>\n",
    "  </td>\n",
    "  <td style=\"text-align: center\">\n",
    "    <a href=\"https://console.cloud.google.com/vertex-ai/colab/import/https:%2F%2Fraw.githubusercontent.com%2FGoogleCloudPlatform%2Fgenerative-ai%2Fmain%2Fgemini%2Fprompts%2Fintro_prompt_design.ipynb\">\n",
    "      <img width=\"32px\" src=\"https://lh3.googleusercontent.com/JmcxdQi-qOpctIvWKgPtrzZdJJK-J3sWE1RsfjZNwshCFgE_9fULcNpuXYTilIR2hjwN\" alt=\"Google Cloud Colab Enterprise logo\"><br> Open in Colab Enterprise\n",
    "    </a>\n",
    "  </td>    \n",
    "  <td style=\"text-align: center\">\n",
    "    <a href=\"https://console.cloud.google.com/vertex-ai/workbench/deploy-notebook?download_url=https://raw.githubusercontent.com/GoogleCloudPlatform/generative-ai/main/gemini/prompts/intro_prompt_design.ipynb\">\n",
    "      <img src=\"https://lh3.googleusercontent.com/UiNooY4LUgW_oTvpsNhPpQzsstV5W8F7rYgxgGBD85cWJoLmrOzhVs_ksK_vgx40SHs7jCqkTkCk=e14-rj-sc0xffffff-h130-w32\" alt=\"Vertex AI logo\"><br> Open in Workbench\n",
    "    </a>\n",
    "  </td>\n",
    "  <td style=\"text-align: center\">\n",
    "    <a href=\"https://github.com/GoogleCloudPlatform/generative-ai/blob/main/gemini/prompts/intro_prompt_design.ipynb\">\n",
    "      <img src=\"https://cloud.google.com/ml-engine/images/github-logo-32px.png\" alt=\"GitHub logo\"><br> View on GitHub\n",
    "    </a>\n",
    "  </td>\n",
    "  <td style=\"text-align: center\">\n",
    "    <a href=\"https://goo.gle/4fWHlze\">\n",
    "      <img width=\"32px\" src=\"https://cdn.qwiklabs.com/assets/gcp_cloud-e3a77215f0b8bfa9b3f611c0d2208c7e8708ed31.svg\" alt=\"Google Cloud logo\"><br> Open in  Cloud Skills Boost\n",
    "    </a>\n",
    "  </td>\n",
    "</table>\n",
    "\n",
    "<div style=\"clear: both;\"></div>\n",
    "\n",
    "<b>Share to:</b>\n",
    "\n",
    "<a href=\"https://www.linkedin.com/sharing/share-offsite/?url=https%3A//github.com/GoogleCloudPlatform/generative-ai/blob/main/gemini/prompts/intro_prompt_design.ipynb\" target=\"_blank\">\n",
    "  <img width=\"20px\" src=\"https://upload.wikimedia.org/wikipedia/commons/8/81/LinkedIn_icon.svg\" alt=\"LinkedIn logo\">\n",
    "</a>\n",
    "\n",
    "<a href=\"https://bsky.app/intent/compose?text=https%3A//github.com/GoogleCloudPlatform/generative-ai/blob/main/gemini/prompts/intro_prompt_design.ipynb\" target=\"_blank\">\n",
    "  <img width=\"20px\" src=\"https://upload.wikimedia.org/wikipedia/commons/7/7a/Bluesky_Logo.svg\" alt=\"Bluesky logo\">\n",
    "</a>\n",
    "\n",
    "<a href=\"https://twitter.com/intent/tweet?url=https%3A//github.com/GoogleCloudPlatform/generative-ai/blob/main/gemini/prompts/intro_prompt_design.ipynb\" target=\"_blank\">\n",
    "  <img width=\"20px\" src=\"https://upload.wikimedia.org/wikipedia/commons/5/5a/X_icon_2.svg\" alt=\"X logo\">\n",
    "</a>\n",
    "\n",
    "<a href=\"https://reddit.com/submit?url=https%3A//github.com/GoogleCloudPlatform/generative-ai/blob/main/gemini/prompts/intro_prompt_design.ipynb\" target=\"_blank\">\n",
    "  <img width=\"20px\" src=\"https://redditinc.com/hubfs/Reddit%20Inc/Brand/Reddit_Logo.png\" alt=\"Reddit logo\">\n",
    "</a>\n",
    "\n",
    "<a href=\"https://www.facebook.com/sharer/sharer.php?u=https%3A//github.com/GoogleCloudPlatform/generative-ai/blob/main/gemini/prompts/intro_prompt_design.ipynb\" target=\"_blank\">\n",
    "  <img width=\"20px\" src=\"https://upload.wikimedia.org/wikipedia/commons/5/51/Facebook_f_logo_%282019%29.svg\" alt=\"Facebook logo\">\n",
    "</a>            "
   ]
  },
  {
   "cell_type": "markdown",
   "metadata": {
    "id": "84f0f73a0f76"
   },
   "source": [
    "| Authors |\n",
    "| --- |\n",
    "| [Polong Lin](https://github.com/polong-lin) |\n",
    "| [Karl Weinmeister](https://github.com/kweinmeister) |"
   ]
  },
  {
   "cell_type": "markdown",
   "metadata": {
    "id": "tvgnzT1CKxrO"
   },
   "source": [
    "## Overview\n",
    "\n",
    "This notebook covers the essentials of prompt engineering, including some best practices.\n",
    "\n",
    "Learn more about prompt design in the [official documentation](https://cloud.google.com/vertex-ai/docs/generative-ai/text/text-overview).\n",
    "\n",
    "In this notebook, you learn best practices around prompt engineering -- how to design prompts to improve the quality of your responses.\n",
    "\n",
    "This notebook covers the following best practices for prompt engineering:\n",
    "\n",
    "- Be concise\n",
    "- Be specific and well-defined\n",
    "- Ask one task at a time\n",
    "- Turn generative tasks into classification tasks\n",
    "- Improve response quality by including examples"
   ]
  },
  {
   "cell_type": "markdown",
   "metadata": {
    "id": "61RBz8LLbxCR"
   },
   "source": [
    "## Getting Started"
   ]
  },
  {
   "cell_type": "markdown",
   "metadata": {
    "id": "No17Cw5hgx12"
   },
   "source": [
    "### Install Google Gen AI SDK\n"
   ]
  },
  {
   "cell_type": "code",
   "execution_count": 1,
   "metadata": {
    "id": "tFy3H3aPgx12",
    "tags": []
   },
   "outputs": [
    {
     "name": "stdout",
     "output_type": "stream",
     "text": [
      "Note: you may need to restart the kernel to use updated packages.\n"
     ]
    }
   ],
   "source": [
    "%pip install --upgrade --quiet google-genai"
   ]
  },
  {
   "cell_type": "markdown",
   "metadata": {},
   "source": [
    "### Restart runtime\n",
    "\n",
    "To use the newly installed packages in this Jupyter runtime, you must restart the runtime. You can do this by running the cell below, which will restart the current kernel."
   ]
  },
  {
   "cell_type": "code",
   "execution_count": 2,
   "metadata": {
    "tags": []
   },
   "outputs": [
    {
     "data": {
      "text/plain": [
       "{'status': 'ok', 'restart': True}"
      ]
     },
     "execution_count": 2,
     "metadata": {},
     "output_type": "execute_result"
    }
   ],
   "source": [
    "import IPython\n",
    "\n",
    "app = IPython.Application.instance()\n",
    "app.kernel.do_shutdown(True)"
   ]
  },
  {
   "cell_type": "markdown",
   "metadata": {},
   "source": [
    "<div class=\"alert alert-block alert-warning\">\n",
    "<b>⚠️ The kernel is going to restart. Please wait until it is finished before continuing to the next step. ⚠️</b>\n",
    "</div>\n"
   ]
  },
  {
   "cell_type": "markdown",
   "metadata": {
    "id": "dmWOrTJ3gx13"
   },
   "source": [
    "### Authenticate your notebook environment (Colab only)\n",
    "\n",
    "Authenticate your environment on Google Colab.\n"
   ]
  },
  {
   "cell_type": "code",
   "execution_count": 1,
   "metadata": {
    "id": "NyKGtVQjgx13",
    "tags": []
   },
   "outputs": [],
   "source": [
    "import sys\n",
    "\n",
    "if \"google.colab\" in sys.modules:\n",
    "    from google.colab import auth\n",
    "\n",
    "    auth.authenticate_user()"
   ]
  },
  {
   "cell_type": "markdown",
   "metadata": {
    "id": "06489bd14f16"
   },
   "source": [
    "### Import libraries\n"
   ]
  },
  {
   "cell_type": "code",
   "execution_count": 2,
   "metadata": {
    "id": "154137022fb6",
    "tags": []
   },
   "outputs": [],
   "source": [
    "from IPython.display import Markdown, display\n",
    "from google import genai\n",
    "from google.genai.types import GenerateContentConfig"
   ]
  },
  {
   "cell_type": "markdown",
   "metadata": {
    "id": "DF4l8DTdWgPY"
   },
   "source": [
    "### Set Google Cloud project information and create client\n",
    "\n",
    "To get started using Vertex AI, you must have an existing Google Cloud project and [enable the Vertex AI API](https://console.cloud.google.com/flows/enableapi?apiid=aiplatform.googleapis.com).\n",
    "\n",
    "Learn more about [setting up a project and a development environment](https://cloud.google.com/vertex-ai/docs/start/cloud-environment).\n",
    "\n",
    "Initialize the Gen AI SDK for Python for your project."
   ]
  },
  {
   "cell_type": "code",
   "execution_count": 3,
   "metadata": {
    "id": "Nqwi-5ufWp_B",
    "tags": []
   },
   "outputs": [],
   "source": [
    "# Define project information\n",
    "PROJECT_ID = \"qwiklabs-gcp-02-5217805066e5\"  # @param {type:\"string\"}\n",
    "LOCATION = \"us-west4\"  # @param {type:\"string\"}\n",
    "\n",
    "# Create the API client\n",
    "from google import genai\n",
    "client = genai.Client(vertexai=True, project=PROJECT_ID, location=LOCATION)"
   ]
  },
  {
   "cell_type": "markdown",
   "metadata": {
    "id": "OnFPpCRtXRl4"
   },
   "source": [
    "### Load model\n",
    "\n",
    "Learn more about all [Gemini models on Vertex AI](https://cloud.google.com/vertex-ai/generative-ai/docs/learn/models#gemini-models)."
   ]
  },
  {
   "cell_type": "code",
   "execution_count": 4,
   "metadata": {
    "id": "IQYu_9SvXQah",
    "tags": []
   },
   "outputs": [],
   "source": [
    "MODEL_ID = \"gemini-2.0-flash-001\"  # @param {type: \"string\"}"
   ]
  },
  {
   "cell_type": "markdown",
   "metadata": {
    "id": "cVOtUNJ5X0PY"
   },
   "source": [
    "## Prompt engineering best practices"
   ]
  },
  {
   "cell_type": "markdown",
   "metadata": {
    "id": "uv_e0fEPX60q"
   },
   "source": [
    "Prompt engineering is all about how to design your prompts so that the response is what you were indeed hoping to see.\n",
    "\n",
    "The idea of using \"unfancy\" prompts is to minimize the noise in your prompt to reduce the possibility of the LLM misinterpreting the intent of the prompt. Below are a few guidelines on how to engineer \"unfancy\" prompts.\n",
    "\n",
    "In this section, you'll cover the following best practices when engineering prompts:\n",
    "\n",
    "* Be concise\n",
    "* Be specific, and well-defined\n",
    "* Ask one task at a time\n",
    "* Improve response quality by including examples\n",
    "* Turn generative tasks to classification tasks to improve safety"
   ]
  },
  {
   "cell_type": "markdown",
   "metadata": {
    "id": "0pY4XX0OX9_Y"
   },
   "source": [
    "### Be concise"
   ]
  },
  {
   "cell_type": "markdown",
   "metadata": {
    "id": "xlRpxyxGYA1K"
   },
   "source": [
    "🛑 Not recommended. The prompt below is unnecessarily verbose."
   ]
  },
  {
   "cell_type": "code",
   "execution_count": 5,
   "metadata": {
    "id": "YKV4G-CfXdbi",
    "tags": []
   },
   "outputs": [
    {
     "data": {
      "text/markdown": [
       "Here are some name ideas for a dried flower shop, playing on different aspects of dried flowers:\n",
       "\n",
       "**Focusing on Longevity & Timelessness:**\n",
       "\n",
       "*   **Lasting Blooms:** Simple, direct, and highlights the lasting nature.\n",
       "*   **Eternally Yours:** Romantic and evokes the enduring quality of dried flowers.\n",
       "*   **Timeless Flora:** Elegant and emphasizes the enduring beauty.\n",
       "*   **The Everbloom:** Suggests flowers that are always in bloom.\n",
       "*   **Preserved Petals:** Highlights the preservation process.\n",
       "\n",
       "**Focusing on Natural Beauty & Earthiness:**\n",
       "\n",
       "*   **The Wildflower Preservatory:** Suggests natural beauty and careful preservation.\n",
       "*   **Golden Harvest Blooms:** Evokes a sense of natural abundance and color.\n",
       "*   **Sunbaked Stems:** Captures the essence of drying flowers in the sun.\n",
       "*   **Earth & Ember Florals:** Combines natural elements with a touch of warmth.\n",
       "*   **Dried Earth Designs:** Straightforward and emphasizes natural designs.\n",
       "\n",
       "**Focusing on Artistry & Craft:**\n",
       "\n",
       "*   **The Dried Bouquet:** Simple and highlights the core product.\n",
       "*   **Petrified Petals:** (A bit edgy, but memorable)\n",
       "*   **The Still Life Studio:** Artistic and emphasizes the beauty of still life.\n",
       "*   **Woven Wilds:** Suggests crafted arrangements with wild elements.\n",
       "*   **The Floral Alchemist:** Implies transforming flowers into something special.\n",
       "\n",
       "**Modern & Chic:**\n",
       "\n",
       "*   **Dried:** Short, memorable, and to the point.\n",
       "*   **The Dry Bar:** Playful and suggests a modern, stylish experience.\n",
       "*   **Anthology of Blooms:** Suggests a curated collection.\n",
       "*   **The Dry Garden:** Suggests an indoor garden of dried flowers.\n",
       "\n",
       "**Tips for Choosing:**\n",
       "\n",
       "*   **Consider your target audience:** Are you aiming for a romantic, rustic, or modern vibe?\n",
       "*   **Check for availability:** Make sure the name isn't already in use in your area or online.\n",
       "*   **Say it out loud:** Does it roll off the tongue? Is it easy to remember?\n",
       "*   **Get feedback:** Ask friends, family, and potential customers for their opinions.\n",
       "*   **Think about your branding:** Choose a name that aligns with your overall brand aesthetic.\n",
       "\n",
       "I personally like **Lasting Blooms, Eternally Yours, Dried, and The Dry Bar**. But it really depends on the image you want to project. Good luck!\n"
      ],
      "text/plain": [
       "<IPython.core.display.Markdown object>"
      ]
     },
     "metadata": {},
     "output_type": "display_data"
    }
   ],
   "source": [
    "prompt = \"What do you think could be a good name for a flower shop that specializes in selling bouquets of dried flowers more than fresh flowers?\"\n",
    "\n",
    "response = client.models.generate_content(model=MODEL_ID, contents=prompt)\n",
    "display(Markdown(response.text))"
   ]
  },
  {
   "cell_type": "markdown",
   "metadata": {
    "id": "YrJexRHJYnmC"
   },
   "source": [
    "✅ Recommended. The prompt below is to the point and concise."
   ]
  },
  {
   "cell_type": "code",
   "execution_count": 6,
   "metadata": {
    "id": "VHetn9lCYrXB",
    "tags": []
   },
   "outputs": [
    {
     "data": {
      "text/markdown": [
       "Okay, here are some name suggestions for a dried flower shop, playing with different angles:\n",
       "\n",
       "**Elegant & Classic:**\n",
       "\n",
       "*   The Everbloom Studio\n",
       "*   Preserved Petals\n",
       "*   Lasting Blooms\n",
       "*   The Dried Bouquet\n",
       "*   Eternal Flora\n",
       "*   Amber & Bloom\n",
       "*   The Conservatory Collection\n",
       "*   Timeless Botanicals\n",
       "\n",
       "**Modern & Chic:**\n",
       "\n",
       "*   Dried & Dusted\n",
       "*   The Still Life Florist\n",
       "*   Second Bloom\n",
       "*   Gathered Stems\n",
       "*   The Dried Flower Bar\n",
       "*   Bloom Haus\n",
       "*   Root & Resin\n",
       "\n",
       "**Whimsical & Playful:**\n",
       "\n",
       "*   The Petal Pusher (Dried)\n",
       "*   Forever Flowers\n",
       "*   The Dusty Daisy\n",
       "*   The Pressed Posy\n",
       "*   Bloom & Brush\n",
       "*   Dried Delight\n",
       "\n",
       "**Location Specific (If applicable):**\n",
       "\n",
       "*   [Your Town/Region] Dried Flowers\n",
       "*   [Your Street Name] Botanicals\n",
       "\n",
       "**Tips for Choosing:**\n",
       "\n",
       "*   **Availability:** Check if the name is available as a website domain and social media handle.\n",
       "*   **Target Audience:** Consider who you are trying to attract.  Are you going for a high-end, minimalist aesthetic, or a more rustic, bohemian vibe?\n",
       "*   **Memorability:**  Is the name easy to remember and pronounce?\n",
       "*   **Trademark:** Do a basic search to see if another business has a similar name that could cause issues.\n",
       "*   **Say it out loud:**  How does the name sound when you say it?  Does it roll off the tongue?\n",
       "\n",
       "To help me narrow it down, tell me:\n",
       "\n",
       "*   **What is the overall style of your shop (e.g., rustic, modern, bohemian, classic)?**\n",
       "*   **What kind of feeling do you want the name to evoke?**\n",
       "*   **Do you have a specific location in mind?**\n",
       "\n",
       "Good luck!\n"
      ],
      "text/plain": [
       "<IPython.core.display.Markdown object>"
      ]
     },
     "metadata": {},
     "output_type": "display_data"
    }
   ],
   "source": [
    "prompt = \"Suggest a name for a flower shop that sells bouquets of dried flowers\"\n",
    "\n",
    "response = client.models.generate_content(model=MODEL_ID, contents=prompt)\n",
    "display(Markdown(response.text))"
   ]
  },
  {
   "cell_type": "markdown",
   "metadata": {
    "id": "eXTAvdOHY0OC"
   },
   "source": [
    "### Be specific, and well-defined"
   ]
  },
  {
   "cell_type": "markdown",
   "metadata": {
    "id": "FTH4GEIgY1dp"
   },
   "source": [
    "Suppose that you want to brainstorm creative ways to describe Earth."
   ]
  },
  {
   "cell_type": "markdown",
   "metadata": {
    "id": "o5BmXBiGY4KC"
   },
   "source": [
    "🛑 The prompt below might be a bit too generic (which is certainly OK if you'd like to ask a generic question!)"
   ]
  },
  {
   "cell_type": "code",
   "execution_count": 7,
   "metadata": {
    "id": "eHBaMvv7Y6mR",
    "tags": []
   },
   "outputs": [
    {
     "data": {
      "text/markdown": [
       "Okay, let's talk about Earth! It's a fascinating planet, our home, and a pretty unique place in the vastness of the universe. Here's a rundown of key facts and interesting aspects:\n",
       "\n",
       "**Basic Facts:**\n",
       "\n",
       "*   **Name:** Earth (also known as Terra)\n",
       "*   **Planet Type:** Terrestrial (rocky)\n",
       "*   **Position from the Sun:** 3rd\n",
       "*   **Distance from the Sun:** Average of 149.6 million kilometers (93 million miles) - this is also known as 1 Astronomical Unit (AU)\n",
       "*   **Diameter:** Approximately 12,742 kilometers (7,918 miles)\n",
       "*   **Circumference:** Approximately 40,075 kilometers (24,901 miles)\n",
       "*   **Mass:** 5.97 × 10^24 kg\n",
       "*   **Rotation Period (Length of a Day):** Approximately 24 hours (23 hours, 56 minutes, 4 seconds)\n",
       "*   **Orbital Period (Length of a Year):** Approximately 365.25 days\n",
       "*   **Axial Tilt:** 23.5 degrees (This tilt is responsible for our seasons.)\n",
       "*   **Atmosphere:** Primarily nitrogen (78%) and oxygen (21%), with trace amounts of other gases.\n",
       "*   **Magnetic Field:** Yes, generated by the movement of molten iron in the Earth's outer core. It protects us from harmful solar radiation.\n",
       "*   **Moons:** One large moon (simply called \"The Moon\").\n",
       "*   **Rings:** None.\n",
       "\n",
       "**Key Features & Composition:**\n",
       "\n",
       "*   **Geological Activity:** Earth is geologically active, with plate tectonics, volcanoes, and earthquakes.\n",
       "*   **Surface Water:** Earth is unique in our solar system for having liquid water on its surface in large quantities (about 71% of the surface is covered by oceans).\n",
       "*   **Structure:**\n",
       "    *   **Crust:** The outermost solid layer (oceanic and continental crust).\n",
       "    *   **Mantle:** A thick, mostly solid layer beneath the crust.\n",
       "    *   **Outer Core:** A liquid layer composed mainly of iron and nickel.\n",
       "    *   **Inner Core:** A solid, dense sphere composed mainly of iron.\n",
       "\n",
       "**Why Earth is Special (Habitability):**\n",
       "\n",
       "*   **Right Distance from the Sun:** This allows for temperatures that support liquid water, which is essential for life as we know it.\n",
       "*   **Atmosphere:** Provides insulation, protects from harmful radiation, and contains gases necessary for life (oxygen for animals, carbon dioxide for plants).\n",
       "*   **Magnetic Field:** Shields us from harmful solar wind.\n",
       "*   **Geological Activity:** While sometimes destructive, it plays a role in recycling nutrients and maintaining a stable climate over long periods.\n",
       "*   **Presence of Water:** Water is an excellent solvent and is crucial for many biological processes.\n",
       "\n",
       "**Life on Earth:**\n",
       "\n",
       "*   Earth is the only known planet in the universe to harbor life.\n",
       "*   Life is incredibly diverse, ranging from microscopic bacteria to giant whales and towering trees.\n",
       "*   Life has significantly altered Earth's atmosphere and geology over billions of years.\n",
       "\n",
       "**Earth in the Solar System and Beyond:**\n",
       "\n",
       "*   Earth is part of the inner, rocky planets of our solar system (along with Mercury, Venus, and Mars).\n",
       "*   Scientists are actively searching for other Earth-like planets around other stars (exoplanets) that might potentially support life.\n",
       "\n",
       "**Things we are learning about Earth**\n",
       "\n",
       "*   Earth's climate is changing rapidly due to human activity, primarily the burning of fossil fuels. This is leading to global warming, rising sea levels, and more extreme weather events.\n",
       "*   Scientists are constantly learning more about Earth's complex systems and how they interact.\n",
       "*   Space missions and satellites provide valuable data about our planet's atmosphere, oceans, and land.\n",
       "*   There is still a lot to be discovered about Earth's history and evolution.\n",
       "\n",
       "**In Summary:**\n",
       "\n",
       "Earth is a dynamic, complex, and unique planet. It's our home, and it's crucial that we understand it and protect it for future generations. It's a privilege to live on this beautiful, blue planet.\n",
       "\n",
       "Is there anything specific you'd like to know more about? For example:\n",
       "\n",
       "*   Earth's history\n",
       "*   The different layers of the Earth\n",
       "*   Plate tectonics\n",
       "*   Climate change\n",
       "*   The search for life on other planets\n",
       "*   Or anything else that sparks your curiosity!\n"
      ],
      "text/plain": [
       "<IPython.core.display.Markdown object>"
      ]
     },
     "metadata": {},
     "output_type": "display_data"
    }
   ],
   "source": [
    "prompt = \"Tell me about Earth\"\n",
    "\n",
    "response = client.models.generate_content(model=MODEL_ID, contents=prompt)\n",
    "display(Markdown(response.text))"
   ]
  },
  {
   "cell_type": "markdown",
   "metadata": {
    "id": "4iyvEbteZnFL"
   },
   "source": [
    "✅ Recommended. The prompt below is specific and well-defined."
   ]
  },
  {
   "cell_type": "code",
   "execution_count": 8,
   "metadata": {
    "id": "JQ80z8urZnne",
    "tags": []
   },
   "outputs": [
    {
     "data": {
      "text/markdown": [
       "Earth boasts a unique combination of factors that make it stand out from all other planets we've observed. Here's a list highlighting those unique attributes:\n",
       "\n",
       "**Essential for Life:**\n",
       "\n",
       "*   **Liquid Water on the Surface:** Earth is the only known planet with a significant amount of stable liquid water on its surface. This is crucial for the chemical reactions necessary for life as we know it.\n",
       "*   **Oxygen-Rich Atmosphere:** Earth's atmosphere is rich in oxygen (about 21%), largely produced and maintained by photosynthetic organisms. This is vital for complex, energy-intensive life forms.\n",
       "*   **Stable Temperature Range:** Earth's distance from the sun and its atmosphere create a temperature range that allows liquid water to exist, and is conducive to life.\n",
       "*   **Presence of Life:** As far as we know, Earth is the only planet with life, ranging from microscopic bacteria to complex multicellular organisms, including humans.\n",
       "\n",
       "**Geological and Physical Characteristics:**\n",
       "\n",
       "*   **Plate Tectonics:** Earth has a dynamic surface with plate tectonics. This process recycles the crust, helps regulate the carbon cycle, and contributes to long-term climate stability.\n",
       "*   **Strong Magnetic Field:** Generated by its iron core, Earth's magnetic field deflects harmful solar wind and cosmic radiation, protecting the atmosphere and life.\n",
       "*   **Dynamic Geology:** Besides plate tectonics, Earth has a geologically active surface with volcanism, erosion, and other processes that shape its landscape.\n",
       "*   **Unique Atmospheric Composition:** While other planets have atmospheres, Earth's nitrogen-oxygen mix is unique, maintained by biological and geological processes.\n",
       "*   **Large Natural Satellite (The Moon):** The Moon is unusually large compared to Earth, and plays a role in stabilizing Earth's axial tilt, influencing tides, and potentially contributing to the development of life.\n",
       "\n",
       "**Complex Systems:**\n",
       "\n",
       "*   **Complex Ecosystems:** Earth supports a vast array of interconnected ecosystems, from rainforests to coral reefs, each with its own unique biodiversity.\n",
       "*   **Complex Weather Patterns:** Earth has complex and dynamic weather patterns, driven by the interaction of the atmosphere, oceans, and land.\n",
       "*   **Climate Stability (Relatively):** Over geological timescales, Earth has maintained a relatively stable climate, allowing life to evolve and flourish. This stability is due to complex feedback mechanisms involving the atmosphere, oceans, and biosphere.\n",
       "*    **Developed intelligent life (humans) and technology:** Earth is the only planet we know of to have intelligent life capable of creating technology.\n",
       "\n",
       "**Other Contributing Factors:**\n",
       "\n",
       "*   **\"Goldilocks Zone\" Location:** Earth is located within the habitable zone of the Sun, meaning it's not too hot or too cold for liquid water to exist.\n",
       "*   **Size and Mass:** Earth's size and mass are sufficient to retain a substantial atmosphere.\n",
       "*   **Age and History:** Earth's age (4.5 billion years) has allowed for the evolution of complex life and the development of a stable, life-supporting environment.\n",
       "*   **Axial Tilt:** Earth's axial tilt (23.5 degrees) causes seasons, which influence weather patterns and the distribution of life.\n",
       "\n",
       "It's important to remember that our understanding of exoplanets is constantly evolving. Future observations may reveal other planets with some of these characteristics, but the unique combination of factors found on Earth remains unmatched so far."
      ],
      "text/plain": [
       "<IPython.core.display.Markdown object>"
      ]
     },
     "metadata": {},
     "output_type": "display_data"
    }
   ],
   "source": [
    "prompt = \"Generate a list of ways that makes Earth unique compared to other planets\"\n",
    "\n",
    "response = client.models.generate_content(model=MODEL_ID, contents=prompt)\n",
    "display(Markdown(response.text))"
   ]
  },
  {
   "cell_type": "markdown",
   "metadata": {
    "id": "R5kmfZYHZsJ7"
   },
   "source": [
    "### Ask one task at a time"
   ]
  },
  {
   "cell_type": "markdown",
   "metadata": {
    "id": "rsAezxeYZuUN"
   },
   "source": [
    "🛑 Not recommended. The prompt below has two parts to the question that could be asked separately."
   ]
  },
  {
   "cell_type": "code",
   "execution_count": 9,
   "metadata": {
    "id": "ElywPXpuZtWf",
    "tags": []
   },
   "outputs": [
    {
     "data": {
      "text/markdown": [
       "Okay, let's tackle these two very different questions!\n",
       "\n",
       "**Best Method of Boiling Water**\n",
       "\n",
       "There isn't one single \"best\" method that is universally superior. The best method depends on factors like:\n",
       "\n",
       "*   **Quantity of water:** A cup versus a gallon.\n",
       "*   **Energy source available:** Electricity, gas, fire, etc.\n",
       "*   **Speed required:**  Need it instantly or have some time?\n",
       "*   **Convenience:**  How much effort are you willing to put in?\n",
       "\n",
       "Here's a breakdown of common methods, along with their pros and cons:\n",
       "\n",
       "*   **Electric Kettle:**\n",
       "    *   **Pros:** Fast, energy-efficient (for small quantities), convenient (automatic shut-off), precise temperature control on some models.  Generally the *fastest* for smaller volumes of water (up to a liter or two).\n",
       "    *   **Cons:** Requires electricity, usually limited to smaller volumes, can be more expensive than other methods upfront.\n",
       "\n",
       "*   **Stovetop Kettle (Gas or Electric):**\n",
       "    *   **Pros:**  Versatile (works on gas or electric stoves), relatively fast, can boil larger quantities than electric kettles (depending on the kettle size).  Often more durable than electric kettles.\n",
       "    *   **Cons:** Requires monitoring (can boil dry if forgotten), slower than electric kettles for smaller volumes.\n",
       "\n",
       "*   **Microwave:**\n",
       "    *   **Pros:**  Very fast for small amounts, convenient.\n",
       "    *   **Cons:** Uneven heating (can lead to superheated water that explodes when disturbed – *be careful!*), can impart a plastic taste to the water (if using plastic containers), not suitable for large quantities, potentially dangerous superheating can cause burns. Not all materials are microwave safe.\n",
       "\n",
       "*   **Pot on the Stovetop:**\n",
       "    *   **Pros:**  Can boil large quantities, flexible (works with various energy sources), inexpensive.\n",
       "    *   **Cons:**  Slowest method, requires monitoring, less energy-efficient than kettles.\n",
       "\n",
       "*   **Induction Cooktop with Pot:**\n",
       "    *   **Pros:** Very fast heating, efficient, precise temperature control (depending on the cooktop).\n",
       "    *   **Cons:** Requires an induction-compatible pot.\n",
       "\n",
       "**In summary:**\n",
       "\n",
       "*   **For speed and small volumes:** Electric kettle.\n",
       "*   **For larger volumes and flexibility:** Stovetop kettle or pot.\n",
       "*   **For convenience and very small volumes (with caution):** Microwave.\n",
       "\n",
       "**Why the Sky is Blue**\n",
       "\n",
       "The sky is blue due to a phenomenon called **Rayleigh scattering**. Here's the simplified explanation:\n",
       "\n",
       "1.  **Sunlight enters the atmosphere:** Sunlight is made up of all the colors of the rainbow.\n",
       "\n",
       "2.  **Light interacts with air molecules:**  As sunlight passes through the Earth's atmosphere, it collides with tiny air molecules (mostly nitrogen and oxygen).\n",
       "\n",
       "3.  **Scattering occurs:**  This collision causes the light to scatter in different directions.\n",
       "\n",
       "4.  **Blue light scatters more:**  Shorter wavelengths of light (blue and violet) are scattered *much* more effectively than longer wavelengths (red, orange, yellow).  This is because the amount of scattering is inversely proportional to the fourth power of the wavelength.  (Rayleigh scattering intensity ∝ 1/λ⁴).  This \"fourth power\" relationship is crucial; it means a small difference in wavelength results in a large difference in scattering.\n",
       "\n",
       "5.  **Why not violet?**  While violet light is scattered even *more* than blue light, several factors contribute to the sky appearing blue rather than violet:\n",
       "    *   The sun emits less violet light than blue light.\n",
       "    *   The atmosphere absorbs some violet light.\n",
       "    *   Our eyes are more sensitive to blue light than violet light.\n",
       "\n",
       "6.  **We see blue:**  Because blue light is scattered more, it's spread across the sky.  When we look up, we see this scattered blue light coming from all directions, making the sky appear blue.\n",
       "\n",
       "**In essence, Rayleigh scattering favors the scattering of shorter wavelengths, and blue light is scattered more effectively than other colors in the visible spectrum. That's why we see a blue sky.**\n"
      ],
      "text/plain": [
       "<IPython.core.display.Markdown object>"
      ]
     },
     "metadata": {},
     "output_type": "display_data"
    }
   ],
   "source": [
    "prompt = \"What's the best method of boiling water and why is the sky blue?\"\n",
    "\n",
    "response = client.models.generate_content(model=MODEL_ID, contents=prompt)\n",
    "display(Markdown(response.text))"
   ]
  },
  {
   "cell_type": "markdown",
   "metadata": {
    "id": "ejzahazBZ8vk"
   },
   "source": [
    "✅ Recommended. The prompts below asks one task a time."
   ]
  },
  {
   "cell_type": "code",
   "execution_count": 10,
   "metadata": {
    "id": "C5ckp2F0Z_Ba",
    "tags": []
   },
   "outputs": [
    {
     "data": {
      "text/markdown": [
       "The \"best\" method of boiling water depends on what you prioritize: speed, energy efficiency, convenience, or available resources. Here's a breakdown:\n",
       "\n",
       "**For Speed:**\n",
       "\n",
       "*   **Electric Kettle:** This is generally the fastest way to boil a small to medium amount of water (e.g., 1-2 liters). They are designed specifically for boiling water, and their concentrated heating element and automatic shut-off make them efficient.\n",
       "\n",
       "**For Energy Efficiency:**\n",
       "\n",
       "*   **Electric Kettle (with variable temperature):** Similar to above, but with the added benefit of setting the exact temperature you need, which can save energy if you don't always need a rolling boil (e.g., for delicate teas).\n",
       "*   **Induction Cooktop with a Stainless Steel Kettle:** Induction is highly efficient, as the heat is directly generated within the kettle itself.\n",
       "\n",
       "**For Convenience:**\n",
       "\n",
       "*   **Electric Kettle:** Again, the winner. Easy to use, automatic shut-off, and cordless pouring.\n",
       "*   **Stovetop Kettle (with whistle):** Provides an audible alert when boiling, which is convenient if you're multitasking.\n",
       "\n",
       "**For Versatility (and if no electricity is available):**\n",
       "\n",
       "*   **Stovetop Kettle (Gas or Electric):** Works on any stovetop.\n",
       "*   **Camp Stove (Gas or Liquid Fuel):**  Essential for boiling water while camping or during power outages.\n",
       "*   **Open Fire (with a suitable pot):** The most basic method, but requires careful fire management.\n",
       "\n",
       "**For Large Volumes of Water:**\n",
       "\n",
       "*   **Large Stovetop Pot:**  Good for boiling water for pasta or other large-scale cooking needs.  Gas stovetops are often better for larger volumes.\n",
       "\n",
       "**Factors to Consider:**\n",
       "\n",
       "*   **Amount of Water:** For a small amount (1-2 cups), an electric kettle is ideal. For larger amounts, a stovetop pot might be more efficient.\n",
       "*   **Energy Source:** Electric, gas, induction, wood, etc.  Choose the method that uses the energy source you have readily available.\n",
       "*   **Budget:** Electric kettles can range in price. Stovetop pots are generally more affordable.\n",
       "*   **Purpose:** If you need very precise temperature control (e.g., for specific teas), an electric kettle with temperature settings is best.\n",
       "*   **Safety:** Electric kettles have automatic shut-off features, which help prevent accidents. Be careful when boiling water on a stovetop or open fire.\n",
       "\n",
       "**In summary, if you're looking for the best overall method for everyday use:**\n",
       "\n",
       "*   **Electric Kettle:** Wins in speed, convenience, and efficiency for smaller amounts of water.\n",
       "\n",
       "Ultimately, the \"best\" method is the one that best suits your individual needs and circumstances.\n"
      ],
      "text/plain": [
       "<IPython.core.display.Markdown object>"
      ]
     },
     "metadata": {},
     "output_type": "display_data"
    }
   ],
   "source": [
    "prompt = \"What's the best method of boiling water?\"\n",
    "\n",
    "response = client.models.generate_content(model=MODEL_ID, contents=prompt)\n",
    "display(Markdown(response.text))"
   ]
  },
  {
   "cell_type": "code",
   "execution_count": 11,
   "metadata": {
    "id": "KwUzhud4aA89",
    "tags": []
   },
   "outputs": [
    {
     "data": {
      "text/markdown": [
       "The sky is blue due to a phenomenon called **Rayleigh scattering**. Here's a breakdown:\n",
       "\n",
       "*   **Sunlight:** Sunlight is actually made up of all the colors of the rainbow. These colors have different wavelengths.\n",
       "\n",
       "*   **Atmosphere:** The Earth is surrounded by an atmosphere, which contains tiny particles of gases like nitrogen and oxygen.\n",
       "\n",
       "*   **Scattering:** When sunlight enters the atmosphere, it collides with these tiny particles. This collision causes the sunlight to scatter in different directions.\n",
       "\n",
       "*   **Rayleigh Scattering:** This type of scattering is more effective at shorter wavelengths. Blue and violet light have shorter wavelengths than other colors like red, orange, and yellow.\n",
       "\n",
       "*   **Why Blue and Not Violet?** Violet light is scattered even *more* than blue light. However, the sun emits less violet light than blue light, and our eyes are also less sensitive to violet. As a result, we perceive the sky as blue.\n",
       "\n",
       "In summary, blue light is scattered more than other colors because of its shorter wavelength, making the sky appear blue to our eyes."
      ],
      "text/plain": [
       "<IPython.core.display.Markdown object>"
      ]
     },
     "metadata": {},
     "output_type": "display_data"
    }
   ],
   "source": [
    "prompt = \"Why is the sky blue?\"\n",
    "\n",
    "response = client.models.generate_content(model=MODEL_ID, contents=prompt)\n",
    "display(Markdown(response.text))"
   ]
  },
  {
   "cell_type": "markdown",
   "metadata": {
    "id": "PJIL2RTQaGcT"
   },
   "source": [
    "### Watch out for hallucinations"
   ]
  },
  {
   "cell_type": "markdown",
   "metadata": {
    "id": "8Y8kYxrSaHE9"
   },
   "source": [
    "Although LLMs have been trained on a large amount of data, they can generate text containing statements not grounded in truth or reality; these responses from the LLM are often referred to as \"hallucinations\" due to their limited memorization capabilities. Note that simply prompting the LLM to provide a citation isn't a fix to this problem, as there are instances of LLMs providing false or inaccurate citations. Dealing with hallucinations is a fundamental challenge of LLMs and an ongoing research area, so it is important to be cognizant that LLMs may seem to give you confident, correct-sounding statements that are in fact incorrect.\n",
    "\n",
    "Note that if you intend to use LLMs for the creative use cases, hallucinating could actually be quite useful."
   ]
  },
  {
   "cell_type": "markdown",
   "metadata": {
    "id": "8NY5nAGeaJYS"
   },
   "source": [
    "Try the prompt like the one below repeatedly. We set the temperature to `1.0` so that it takes more risks in its choices. It's possible that it may provide an inaccurate, but confident answer."
   ]
  },
  {
   "cell_type": "code",
   "execution_count": 12,
   "metadata": {
    "id": "QALPjEILaM62",
    "tags": []
   },
   "outputs": [
    {
     "data": {
      "text/markdown": [
       "I am a large language model, and do not have access to real-time information, including the current day of the week. You can find out what day it is by looking at a calendar, using a search engine, or asking a smart device.\n"
      ],
      "text/plain": [
       "<IPython.core.display.Markdown object>"
      ]
     },
     "metadata": {},
     "output_type": "display_data"
    }
   ],
   "source": [
    "generation_config = GenerateContentConfig(temperature=1.0)\n",
    "\n",
    "prompt = \"What day is it today?\"\n",
    "\n",
    "response = client.models.generate_content(model=MODEL_ID, contents=prompt)\n",
    "display(Markdown(response.text))"
   ]
  },
  {
   "cell_type": "markdown",
   "metadata": {
    "id": "BRkwzbgRbhKt"
   },
   "source": [
    "Since LLMs do not have access to real-time information without further integrations, you may have noticed it hallucinates what day it is today in some of the outputs."
   ]
  },
  {
   "cell_type": "markdown",
   "metadata": {
    "id": "3c811e310d02"
   },
   "source": [
    "### Using system instructions to guardrail the model from irrelevant responses\n",
    "\n",
    "How can we attempt to reduce the chances of irrelevant responses and hallucinations?\n",
    "\n",
    "One way is to provide the LLM with [system instructions](https://cloud.google.com/vertex-ai/generative-ai/docs/multimodal/send-chat-prompts-gemini#system-instructions).\n",
    "\n",
    "Let's see how system instructions works and how you can use them to reduce hallucinations or irrelevant questions for a travel chatbot.\n",
    "\n",
    "Suppose we ask a simple question about one of Italy's most famous tourist spots."
   ]
  },
  {
   "cell_type": "code",
   "execution_count": 13,
   "metadata": {
    "id": "rB6zJU76biFK",
    "tags": []
   },
   "outputs": [
    {
     "data": {
      "text/markdown": [
       "Milan offers a wealth of attractions for sightseeing! Here are some of the top spots you shouldn't miss:\n",
       "\n",
       "*   **Duomo di Milano:** The iconic Milan Cathedral is a must-see. Its stunning Gothic architecture, intricate facade, and rooftop views are unforgettable.\n",
       "\n",
       "*   **Galleria Vittorio Emanuele II:** This elegant 19th-century shopping arcade is a beautiful place to stroll, shop for luxury goods, and admire the architecture.\n",
       "\n",
       "*   **Teatro alla Scala:** One of the world's most famous opera houses.\n",
       "\n",
       "*   **Sforza Castle (Castello Sforzesco):** A historic castle that houses several museums and art collections, including Michelangelo's unfinished Pietà Rondanini.\n",
       "\n",
       "*   **Pinacoteca di Brera:** An art gallery with a remarkable collection of Italian paintings, including masterpieces by Raphael, Caravaggio, and Rembrandt.\n",
       "\n",
       "*   **Navigli District:** A charming canal district with a vibrant nightlife, lined with bars, restaurants, and artisan shops.\n",
       "\n",
       "*   **Santa Maria delle Grazie:** Home to Leonardo da Vinci's \"The Last Supper\" (reservations required well in advance).\n",
       "\n",
       "*   **Parco Sempione:** A large park behind the Sforza Castle, perfect for a relaxing walk or picnic.\n",
       "\n",
       "Enjoy your trip!"
      ],
      "text/plain": [
       "<IPython.core.display.Markdown object>"
      ]
     },
     "metadata": {},
     "output_type": "display_data"
    }
   ],
   "source": [
    "generation_config = GenerateContentConfig(temperature=1.0)\n",
    "\n",
    "chat = client.chats.create(\n",
    "    model=MODEL_ID,\n",
    "    config=GenerateContentConfig(\n",
    "        system_instruction=[\n",
    "            \"Hello! You are an AI chatbot for a travel web site.\",\n",
    "            \"Your mission is to provide helpful queries for travelers.\",\n",
    "            \"Remember that before you answer a question, you must check to see if it complies with your mission.\",\n",
    "            \"If not, you can say, Sorry I can't answer that question.\",\n",
    "        ]\n",
    "    ),\n",
    ")\n",
    "\n",
    "prompt = \"What is the best place for sightseeing in Milan, Italy?\"\n",
    "\n",
    "response = chat.send_message(prompt)\n",
    "display(Markdown(response.text))"
   ]
  },
  {
   "cell_type": "markdown",
   "metadata": {
    "id": "WZa-Qcf9cF4A"
   },
   "source": [
    "Now let us pretend to be a user asks the chatbot a question that is unrelated to travel."
   ]
  },
  {
   "cell_type": "code",
   "execution_count": 14,
   "metadata": {
    "id": "AZKBIDr2cGnu",
    "tags": []
   },
   "outputs": [
    {
     "data": {
      "text/markdown": [
       "Milan offers a wealth of attractions for sightseeing! Here are some of the top spots you shouldn't miss:\n",
       "\n",
       "*   **Duomo di Milano:** The iconic Milan Cathedral is a must-see. Its stunning Gothic architecture, intricate facade, and rooftop views are unforgettable.\n",
       "\n",
       "*   **Galleria Vittorio Emanuele II:** This elegant 19th-century shopping arcade is a beautiful place to stroll, shop for luxury goods, and admire the architecture.\n",
       "\n",
       "*   **Teatro alla Scala:** One of the world's most famous opera houses.\n",
       "\n",
       "*   **Sforza Castle (Castello Sforzesco):** A historic castle that houses several museums and art collections, including Michelangelo's unfinished Pietà Rondanini.\n",
       "\n",
       "*   **Pinacoteca di Brera:** An art gallery with a remarkable collection of Italian paintings, including masterpieces by Raphael, Caravaggio, and Rembrandt.\n",
       "\n",
       "*   **Navigli District:** A charming canal district with a vibrant nightlife, lined with bars, restaurants, and artisan shops.\n",
       "\n",
       "*   **Santa Maria delle Grazie:** Home to Leonardo da Vinci's \"The Last Supper\" (reservations required well in advance).\n",
       "\n",
       "*   **Parco Sempione:** A large park behind the Sforza Castle, perfect for a relaxing walk or picnic.\n",
       "\n",
       "Enjoy your trip!"
      ],
      "text/plain": [
       "<IPython.core.display.Markdown object>"
      ]
     },
     "metadata": {},
     "output_type": "display_data"
    }
   ],
   "source": [
    "prompt = \"What is the best place for sightseeing in Milan, Italy?\"\n",
    "\n",
    "response = chat.send_message(prompt)\n",
    "display(Markdown(response.text))"
   ]
  },
  {
   "cell_type": "markdown",
   "metadata": {
    "id": "JiUYIhwpctCy"
   },
   "source": [
    "You can see that this way, a guardrail in the prompt prevented the chatbot from veering off course."
   ]
  },
  {
   "cell_type": "markdown",
   "metadata": {
    "id": "ZuuDhA37cvmP"
   },
   "source": [
    "### Turn generative tasks into classification tasks to reduce output variability"
   ]
  },
  {
   "cell_type": "markdown",
   "metadata": {
    "id": "kUCUrsUzczmb"
   },
   "source": [
    "#### Generative tasks lead to higher output variability"
   ]
  },
  {
   "cell_type": "markdown",
   "metadata": {
    "id": "a1xASHAkc46n"
   },
   "source": [
    "The prompt below results in an open-ended response, useful for brainstorming, but response is highly variable."
   ]
  },
  {
   "cell_type": "code",
   "execution_count": 15,
   "metadata": {
    "id": "nPfXQWIacwRf",
    "tags": []
   },
   "outputs": [
    {
     "data": {
      "text/markdown": [
       "Okay, here are a few programming activity recommendations for a high school student, broken down by skill level and interest, with explanations of why they're beneficial and suggestions for getting started:\n",
       "\n",
       "**Beginner Level (Focus:  Fundamental Concepts, Syntax, Logic)**\n",
       "\n",
       "*   **1.  Text-Based Adventure Game:**\n",
       "\n",
       "    *   **Description:**  Create a simple text-based adventure game where the player makes choices and navigates through a story.\n",
       "    *   **Why it's good:**\n",
       "        *   Reinforces `if/else` statements, loops (for navigation), and input/output.\n",
       "        *   Helps with basic program flow control.\n",
       "        *   Forces you to think logically about scenarios and outcomes.\n",
       "        *   Can be surprisingly creative and fun.\n",
       "    *   **Languages:** Python, JavaScript (in a terminal), C++, Java, C#\n",
       "    *   **Getting Started:**\n",
       "        *   Start with a very simple story (e.g., \"You are in a room. There is a door to the north and a window to the east...\").\n",
       "        *   Use `input()` (Python), `prompt()` (JavaScript), `cin` (C++), `Scanner` (Java), or `Console.ReadLine()` (C#) to get user input.\n",
       "        *   Use `if/else` statements to determine what happens based on the player's choices.\n",
       "        *   Expand the game gradually, adding more rooms, items, and complexity.\n",
       "        *   **Example (Python):**\n",
       "\n",
       "            ```python\n",
       "            print(\"You are standing in a dark forest.\")\n",
       "            choice = input(\"Do you go left or right? (left/right): \")\n",
       "\n",
       "            if choice == \"left\":\n",
       "                print(\"You find a treasure chest!\")\n",
       "            elif choice == \"right\":\n",
       "                print(\"A bear eats you.  You die.\")\n",
       "            else:\n",
       "                print(\"Invalid choice.\")\n",
       "            ```\n",
       "\n",
       "*   **2.  Simple Calculator:**\n",
       "\n",
       "    *   **Description:** Build a calculator that can perform basic arithmetic operations (+, -, \\*, /).  Extend it to handle more complex operations (exponents, square roots) or multiple inputs.\n",
       "    *   **Why it's good:**\n",
       "        *   Solidifies understanding of operators, variables, and data types.\n",
       "        *   Introduces the concept of error handling (e.g., dividing by zero).\n",
       "        *   Can be expanded to use functions for each operation.\n",
       "    *   **Languages:** Python, JavaScript, C++, Java, C#\n",
       "    *   **Getting Started:**\n",
       "        *   Start with two numbers as input and a single operation.\n",
       "        *   Use `input()` or `prompt()` to get numbers and the operation from the user.\n",
       "        *   Use `if/elif/else` or a `switch` statement (depending on the language) to perform the correct calculation.\n",
       "        *   Add error handling for invalid input (e.g., non-numeric input, division by zero).\n",
       "        *   Then add more operations.\n",
       "        *   Consider GUI if you know more.\n",
       "\n",
       "*   **3.  Number Guessing Game:**\n",
       "\n",
       "    *   **Description:**  The computer generates a random number, and the player has to guess it within a certain number of tries.\n",
       "    *   **Why it's good:**\n",
       "        *   Reinforces loops (`while` loop for guessing until correct or out of tries).\n",
       "        *   Uses random number generation.\n",
       "        *   Practices conditional statements (checking if the guess is too high, too low, or correct).\n",
       "    *   **Languages:** Python, JavaScript, C++, Java, C#\n",
       "    *   **Getting Started:**\n",
       "        *   Use the `random` module in Python, `Math.random()` in JavaScript, `rand()` in C++, `java.util.Random` in Java, or `System.Random` in C# to generate a random number.\n",
       "        *   Use a `while` loop to keep asking for guesses until the player guesses correctly or runs out of attempts.\n",
       "        *   Provide feedback to the player (too high, too low).\n",
       "\n",
       "**Intermediate Level (Focus: Data Structures, Algorithms, Object-Oriented Programming)**\n",
       "\n",
       "*   **1.  To-Do List Application:**\n",
       "\n",
       "    *   **Description:** Create a program that allows the user to add, view, mark as complete, and delete tasks from a list.  Consider saving the list to a file.\n",
       "    *   **Why it's good:**\n",
       "        *   Introduces basic data structures (lists/arrays) to store tasks.\n",
       "        *   Practices working with user input and output.\n",
       "        *   Can be extended to include features like due dates, priorities, and categories.\n",
       "        *   File I/O.\n",
       "    *   **Languages:** Python, JavaScript (with local storage), C++, Java, C#\n",
       "    *   **Getting Started:**\n",
       "        *   Start with a simple list/array to store the tasks.\n",
       "        *   Create functions for adding, viewing, deleting, and marking tasks as complete.\n",
       "        *   Use a loop to present a menu of options to the user.\n",
       "        *   Implement saving and loading tasks from a file.\n",
       "\n",
       "*   **2.  Simple Inventory Management System:**\n",
       "\n",
       "    *   **Description:**  Design a program to track the inventory of a small store.  It should allow you to add items, update quantities, view inventory, and search for items.\n",
       "    *   **Why it's good:**\n",
       "        *   Introduces the concept of classes/objects (if using OOP).\n",
       "        *   Uses data structures (lists, dictionaries/maps) to store inventory information.\n",
       "        *   Practices working with structured data.\n",
       "        *   Good practice on storing, retrieving, modifying data.\n",
       "    *   **Languages:** Python, Java, C#, C++ (with classes)\n",
       "    *   **Getting Started:**\n",
       "        *   Define a class or structure to represent an item (name, quantity, price, etc.).\n",
       "        *   Use a list or dictionary to store the inventory.\n",
       "        *   Create functions for adding, updating, viewing, and searching for items.\n",
       "\n",
       "*   **3.  Basic Sorting Algorithm Implementation (e.g., Bubble Sort, Selection Sort, Insertion Sort):**\n",
       "\n",
       "    *   **Description:** Implement one or more basic sorting algorithms from scratch.\n",
       "    *   **Why it's good:**\n",
       "        *   Develops a deeper understanding of how sorting algorithms work.\n",
       "        *   Improves problem-solving skills.\n",
       "        *   Provides a foundation for learning more advanced algorithms.\n",
       "    *   **Languages:**  Python, JavaScript, C++, Java, C#\n",
       "    *   **Getting Started:**\n",
       "        *   Research the chosen sorting algorithm (Bubble Sort is the simplest to start with).\n",
       "        *   Write the code to implement the algorithm.\n",
       "        *   Test your implementation with different datasets (sorted, unsorted, reverse-sorted).\n",
       "        *   Analyze the time complexity of the algorithm.\n",
       "\n",
       "*   **4.  Graphical User Interface (GUI) Project (e.g., a simple calculator, a paint program, a tic-tac-toe game):**\n",
       "\n",
       "    *   **Description:** Create a simple program with a graphical user interface using a library like Tkinter (Python), Swing/JavaFX (Java), or WPF (C#).\n",
       "    *   **Why it's good:**\n",
       "        *   Introduces event-driven programming.\n",
       "        *   Provides experience with GUI libraries and frameworks.\n",
       "        *   Makes your programs more interactive and visually appealing.\n",
       "    *   **Languages:** Python (Tkinter), Java (Swing/JavaFX), C# (WPF)\n",
       "    *   **Getting Started:**\n",
       "        *   Learn the basics of the chosen GUI library (layout managers, widgets, event handling).\n",
       "        *   Start with a simple application like a calculator or a button that changes its text when clicked.\n",
       "        *   Gradually add more features and complexity.\n",
       "\n",
       "**Advanced Level (Focus:  Design Patterns, Larger Projects, Real-World Applications)**\n",
       "\n",
       "*   **1.  Web Application (e.g., a simple blog, a task manager, a URL shortener):**\n",
       "\n",
       "    *   **Description:** Create a simple web application using a framework like Flask (Python), Express.js (JavaScript), or Spring Boot (Java).\n",
       "    *   **Why it's good:**\n",
       "        *   Introduces web development concepts (HTTP, HTML, CSS, JavaScript).\n",
       "        *   Provides experience with server-side frameworks.\n",
       "        *   Teaches how to interact with databases.\n",
       "    *   **Languages:** Python (Flask, Django), JavaScript (Node.js, Express.js, React, Angular, Vue), Java (Spring Boot)\n",
       "    *   **Getting Started:**\n",
       "        *   Learn the basics of HTML, CSS, and JavaScript.\n",
       "        *   Choose a framework and follow a tutorial to create a basic web application.\n",
       "        *   Connect your application to a database (e.g., SQLite, MySQL, PostgreSQL).\n",
       "        *   Implement features like user authentication, data validation, and error handling.\n",
       "\n",
       "*   **2.  Game Development (using a framework like Pygame, Unity, or Godot):**\n",
       "\n",
       "    *   **Description:** Create a simple 2D game using a game development framework.\n",
       "    *   **Why it's good:**\n",
       "        *   Introduces game development concepts (game loops, collision detection, physics).\n",
       "        *   Provides experience with game development frameworks.\n",
       "        *   Teaches how to work with graphics, sound, and user input.\n",
       "    *   **Languages:** Python (Pygame), C# (Unity), GDScript (Godot)\n",
       "    *   **Getting Started:**\n",
       "        *   Learn the basics of the chosen game development framework.\n",
       "        *   Start with a simple game like Pong or Breakout.\n",
       "        *   Gradually add more features and complexity.\n",
       "\n",
       "*   **3.  Contribute to an Open-Source Project:**\n",
       "\n",
       "    *   **Description:** Find an open-source project on GitHub or GitLab that interests you and contribute to it.\n",
       "    *   **Why it's good:**\n",
       "        *   Provides experience working in a team environment.\n",
       "        *   Teaches how to use version control systems (Git).\n",
       "        *   Exposes you to real-world code and coding practices.\n",
       "        *   Helps you build your portfolio.\n",
       "    *   **Languages:** Varies depending on the project.\n",
       "    *   **Getting Started:**\n",
       "        *   Find a project that matches your skills and interests.\n",
       "        *   Read the project's contribution guidelines.\n",
       "        *   Start with a small bug fix or a simple feature implementation.\n",
       "        *   Submit your code for review.\n",
       "\n",
       "**General Tips for Success:**\n",
       "\n",
       "*   **Start Small:** Don't try to tackle too much at once. Break down your project into smaller, manageable tasks.\n",
       "*   **Focus on Understanding:**  It's more important to understand the concepts than to just copy code.\n",
       "*   **Practice Regularly:** The more you practice, the better you'll become.\n",
       "*   **Use Online Resources:** There are tons of great resources available online, including tutorials, documentation, and forums.\n",
       "*   **Ask for Help:** Don't be afraid to ask for help when you get stuck.  Online forums, communities, and even asking classmates or teachers can be invaluable.\n",
       "*   **Debug Strategically:** Learn to use a debugger to step through your code and identify errors.  Print statements (though less sophisticated) are also helpful.\n",
       "*   **Write Clean Code:**  Use meaningful variable names, add comments, and format your code consistently.  This will make your code easier to read and understand.\n",
       "*   **Have Fun!** Programming can be challenging, but it can also be very rewarding.  Choose projects that you find interesting and enjoyable.\n",
       "\n",
       "To help me provide even more tailored recommendations, tell me:\n",
       "\n",
       "*   **What programming languages do you already know (if any)?**\n",
       "*   **What are you interested in (e.g., web development, game development, data science, etc.)?**\n",
       "*   **How much time do you have to dedicate to programming each week?**\n",
       "*   **Are you looking for a project to do on your own or with a group?**\n",
       "\n",
       "Good luck with your programming endeavors!\n"
      ],
      "text/plain": [
       "<IPython.core.display.Markdown object>"
      ]
     },
     "metadata": {},
     "output_type": "display_data"
    }
   ],
   "source": [
    "prompt = \"I'm a high school student. Recommend me a programming activity to improve my skills.\"\n",
    "\n",
    "response = client.models.generate_content(model=MODEL_ID, contents=prompt)\n",
    "display(Markdown(response.text))"
   ]
  },
  {
   "cell_type": "markdown",
   "metadata": {
    "id": "iAmm9wPYc_1o"
   },
   "source": [
    "#### Classification tasks reduces output variability"
   ]
  },
  {
   "cell_type": "markdown",
   "metadata": {
    "id": "VvRpK_0GdCpf"
   },
   "source": [
    "The prompt below results in a choice and may be useful if you want the output to be easier to control."
   ]
  },
  {
   "cell_type": "code",
   "execution_count": 16,
   "metadata": {
    "id": "kYDKh0r2dAqo",
    "tags": []
   },
   "outputs": [
    {
     "data": {
      "text/markdown": [
       "Okay, as a high school student looking to learn a programming language, I strongly recommend **(a) learn Python** or **(b) learn JavaScript**, depending on your specific interests. I would advise against learning Fortran for now. Here's a breakdown:\n",
       "\n",
       "**Recommendation: Python or JavaScript**\n",
       "\n",
       "*   **Python:**\n",
       "    *   **Pros:**\n",
       "        *   **Beginner-Friendly:**  Python's syntax is designed to be readable and easy to understand, almost like plain English. This makes it an excellent choice for beginners.\n",
       "        *   **Versatile:**  Python is used in a wide range of applications, including:\n",
       "            *   **Data Science/Machine Learning:** A very popular field right now. Python has extensive libraries like NumPy, Pandas, and Scikit-learn for data analysis, visualization, and machine learning. This could give you a significant advantage if you're interested in these areas.\n",
       "            *   **Web Development:** Python can be used for backend web development (using frameworks like Django or Flask).\n",
       "            *   **Scripting/Automation:**  Python is great for automating tasks, writing scripts, and creating utilities.\n",
       "            *   **Game Development:**  Pygame is a popular library for creating simple games.\n",
       "            *   **Education:** many schools use Python in coding classes, so having a prior understanding would be beneficial in future courses.\n",
       "        *   **Large and Supportive Community:**  Python has a huge online community, meaning you'll find plenty of tutorials, documentation, and help when you get stuck.\n",
       "        *   **Job Market:** Python skills are in high demand in many industries.\n",
       "    *   **Cons:**\n",
       "        *   Can be slower than some other languages (like C++ or Java) for performance-critical applications.  But this is usually not a concern for beginners or most general-purpose tasks.\n",
       "\n",
       "*   **JavaScript:**\n",
       "    *   **Pros:**\n",
       "        *   **Web Development:**  JavaScript is *essential* for front-end web development. It's what makes websites interactive (e.g., animations, dynamic content, handling user input). If you're interested in creating websites, this is a must-learn.\n",
       "        *   **Full-Stack Development:**  With Node.js, you can also use JavaScript for back-end development, allowing you to build entire web applications using a single language.\n",
       "        *   **Ubiquitous:**  JavaScript runs in web browsers, making it incredibly accessible. You can start coding in JavaScript right away using your browser's developer tools.\n",
       "        *   **Large and Supportive Community:** Similar to Python, JavaScript has a massive online community and tons of resources available.\n",
       "        *   **Popular Frameworks:**  JavaScript has powerful frameworks like React, Angular, and Vue.js, which are widely used in the industry. Learning these frameworks can significantly boost your career prospects.\n",
       "    *   **Cons:**\n",
       "        *   Can be a bit more complex to learn initially than Python, especially when dealing with asynchronous programming and the intricacies of the web browser environment.\n",
       "        *   JavaScript's behavior can sometimes be inconsistent across different browsers (though this is less of a problem than it used to be).\n",
       "\n",
       "**Why NOT Fortran:**\n",
       "\n",
       "*   **Fortran:**\n",
       "    *   **Pros:**\n",
       "        *   **Scientific Computing:** Fortran is still used in some areas of scientific and engineering computing, particularly for legacy code or highly performance-critical numerical simulations.\n",
       "    *   **Cons:**\n",
       "        *   **Not Beginner-Friendly:** Fortran's syntax can be less intuitive than Python or JavaScript, especially for modern programming concepts.\n",
       "        *   **Limited Applicability:** Fortran's primary use is in a niche area. While valuable in that area, it's not as broadly applicable as Python or JavaScript.\n",
       "        *   **Smaller Community:** The Fortran community is smaller than Python's or JavaScript's, which means fewer online resources and less support available.\n",
       "        *   **Job Market:** The job market for Fortran developers is significantly smaller than for Python or JavaScript developers.\n",
       "\n",
       "**Which to Choose: Python or JavaScript?**\n",
       "\n",
       "*   **Choose Python if:**\n",
       "    *   You're most interested in data science, machine learning, scripting, automation, or creating simple games.\n",
       "    *   You want a language that's easy to pick up and learn the fundamentals of programming.\n",
       "    *   You prefer a language with a focus on readability and clear syntax.\n",
       "*   **Choose JavaScript if:**\n",
       "    *   You're passionate about web development and creating interactive websites.\n",
       "    *   You want to learn a language that's essential for front-end development and can also be used for back-end development.\n",
       "    *   You're interested in learning popular JavaScript frameworks like React, Angular, or Vue.js.\n",
       "\n",
       "**My Overall Recommendation:**\n",
       "\n",
       "For a high school student just starting out, **Python is often the best choice**. It's easier to learn, more versatile for general-purpose tasks, and opens doors to many interesting areas like data science and machine learning.  However, if you *know* that your primary interest is in creating websites, then JavaScript is a strong contender.\n",
       "\n",
       "**Ultimately, the best language to learn is the one that excites you the most!**  Try a few tutorials for both Python and JavaScript and see which one you enjoy working with.  Good luck!\n"
      ],
      "text/plain": [
       "<IPython.core.display.Markdown object>"
      ]
     },
     "metadata": {},
     "output_type": "display_data"
    }
   ],
   "source": [
    "prompt = \"\"\"I'm a high school student. Which of these activities do you suggest and why:\n",
    "a) learn Python\n",
    "b) learn JavaScript\n",
    "c) learn Fortran\n",
    "\"\"\"\n",
    "\n",
    "response = client.models.generate_content(model=MODEL_ID, contents=prompt)\n",
    "display(Markdown(response.text))"
   ]
  },
  {
   "cell_type": "markdown",
   "metadata": {
    "id": "iTd60b1GdIsx"
   },
   "source": [
    "### Improve response quality by including examples"
   ]
  },
  {
   "cell_type": "markdown",
   "metadata": {
    "id": "yJi44NejdJYE"
   },
   "source": [
    "Another way to improve response quality is to add examples in your prompt. The LLM learns in-context from the examples on how to respond. Typically, one to five examples (shots) are enough to improve the quality of responses. Including too many examples can cause the model to over-fit the data and reduce the quality of responses.\n",
    "\n",
    "Similar to classical model training, the quality and distribution of the examples is very important. Pick examples that are representative of the scenarios that you need the model to learn, and keep the distribution of the examples (e.g. number of examples per class in the case of classification) aligned with your actual distribution."
   ]
  },
  {
   "cell_type": "markdown",
   "metadata": {
    "id": "sMbLginWdOKs"
   },
   "source": [
    "#### Zero-shot prompt"
   ]
  },
  {
   "cell_type": "markdown",
   "metadata": {
    "id": "Crh2Loi2dQ0v"
   },
   "source": [
    "Below is an example of zero-shot prompting, where you don't provide any examples to the LLM within the prompt itself."
   ]
  },
  {
   "cell_type": "code",
   "execution_count": 17,
   "metadata": {
    "id": "-7myRc-SdTQ4",
    "tags": []
   },
   "outputs": [
    {
     "data": {
      "text/markdown": [
       "Sentiment: Positive\n"
      ],
      "text/plain": [
       "<IPython.core.display.Markdown object>"
      ]
     },
     "metadata": {},
     "output_type": "display_data"
    }
   ],
   "source": [
    "prompt = \"\"\"Decide whether a Tweet's sentiment is positive, neutral, or negative.\n",
    "\n",
    "Tweet: I loved the new YouTube video you made!\n",
    "Sentiment:\n",
    "\"\"\"\n",
    "\n",
    "response = client.models.generate_content(model=MODEL_ID, contents=prompt)\n",
    "display(Markdown(response.text))"
   ]
  },
  {
   "cell_type": "markdown",
   "metadata": {
    "id": "ucRtPn9SdL64"
   },
   "source": [
    "#### One-shot prompt"
   ]
  },
  {
   "cell_type": "markdown",
   "metadata": {
    "id": "rs0gQH2vdYBi"
   },
   "source": [
    "Below is an example of one-shot prompting, where you provide one example to the LLM within the prompt to give some guidance on what type of response you want."
   ]
  },
  {
   "cell_type": "code",
   "execution_count": 18,
   "metadata": {
    "id": "iEq-KxGYdaT5",
    "tags": []
   },
   "outputs": [
    {
     "data": {
      "text/markdown": [
       "Sentiment: negative\n"
      ],
      "text/plain": [
       "<IPython.core.display.Markdown object>"
      ]
     },
     "metadata": {},
     "output_type": "display_data"
    }
   ],
   "source": [
    "prompt = \"\"\"Decide whether a Tweet's sentiment is positive, neutral, or negative.\n",
    "\n",
    "Tweet: I loved the new YouTube video you made!\n",
    "Sentiment: positive\n",
    "\n",
    "Tweet: That was awful. Super boring 😠\n",
    "Sentiment:\n",
    "\"\"\"\n",
    "\n",
    "response = client.models.generate_content(model=MODEL_ID, contents=prompt)\n",
    "display(Markdown(response.text))"
   ]
  },
  {
   "cell_type": "markdown",
   "metadata": {
    "id": "JnKLjJzmdfL_"
   },
   "source": [
    "#### Few-shot prompt"
   ]
  },
  {
   "cell_type": "markdown",
   "metadata": {
    "id": "6Zv-9F5OdgI_"
   },
   "source": [
    "Below is an example of few-shot prompting, where you provide a few examples to the LLM within the prompt to give some guidance on what type of response you want."
   ]
  },
  {
   "cell_type": "code",
   "execution_count": 19,
   "metadata": {
    "id": "u37P9tG4dk9S",
    "tags": []
   },
   "outputs": [
    {
     "data": {
      "text/markdown": [
       "Sentiment: positive\n"
      ],
      "text/plain": [
       "<IPython.core.display.Markdown object>"
      ]
     },
     "metadata": {},
     "output_type": "display_data"
    }
   ],
   "source": [
    "prompt = \"\"\"Decide whether a Tweet's sentiment is positive, neutral, or negative.\n",
    "\n",
    "Tweet: I loved the new YouTube video you made!\n",
    "Sentiment: positive\n",
    "\n",
    "Tweet: That was awful. Super boring 😠\n",
    "Sentiment: negative\n",
    "\n",
    "Tweet: Something surprised me about this video - it was actually original. It was not the same old recycled stuff that I always see. Watch it - you will not regret it.\n",
    "Sentiment:\n",
    "\"\"\"\n",
    "\n",
    "response = client.models.generate_content(model=MODEL_ID, contents=prompt)\n",
    "display(Markdown(response.text))"
   ]
  },
  {
   "cell_type": "markdown",
   "metadata": {
    "id": "wDMD3xb2dvX6"
   },
   "source": [
    "#### Choosing between zero-shot, one-shot, few-shot prompting methods"
   ]
  },
  {
   "cell_type": "markdown",
   "metadata": {
    "id": "s92W0YpNdxJp"
   },
   "source": [
    "Which prompt technique to use will solely depends on your goal. The zero-shot prompts are more open-ended and can give you creative answers, while one-shot and few-shot prompts teach the model how to behave so you can get more predictable answers that are consistent with the examples provided."
   ]
  }
 ],
 "metadata": {
  "colab": {
   "name": "intro_prompt_design.ipynb",
   "toc_visible": true
  },
  "environment": {
   "kernel": "conda-base-py",
   "name": "workbench-notebooks.m129",
   "type": "gcloud",
   "uri": "us-docker.pkg.dev/deeplearning-platform-release/gcr.io/workbench-notebooks:m129"
  },
  "kernelspec": {
   "display_name": "Python 3 (ipykernel) (Local) (Local)",
   "language": "python",
   "name": "conda-base-py"
  },
  "language_info": {
   "codemirror_mode": {
    "name": "ipython",
    "version": 3
   },
   "file_extension": ".py",
   "mimetype": "text/x-python",
   "name": "python",
   "nbconvert_exporter": "python",
   "pygments_lexer": "ipython3",
   "version": "3.10.16"
  }
 },
 "nbformat": 4,
 "nbformat_minor": 4
}
