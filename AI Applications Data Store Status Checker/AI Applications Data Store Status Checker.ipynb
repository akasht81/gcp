{
 "cells": [
  {
   "cell_type": "code",
   "execution_count": null,
   "id": "4d85659f-81d3-4645-9ee1-1ceae00378c2",
   "metadata": {},
   "outputs": [],
   "source": [
    "Install the latest version of Google Cloud Discovery Engine"
   ]
  },
  {
   "cell_type": "code",
   "execution_count": 1,
   "id": "406dc31d-166c-458a-a718-724bc9e21bd5",
   "metadata": {
    "tags": []
   },
   "outputs": [
    {
     "name": "stdout",
     "output_type": "stream",
     "text": [
      "Collecting google-cloud-discoveryengine\n",
      "  Downloading google_cloud_discoveryengine-0.13.8-py3-none-any.whl.metadata (9.4 kB)\n",
      "Requirement already satisfied: humanize in /opt/conda/lib/python3.10/site-packages (4.12.2)\n",
      "Collecting humanize\n",
      "  Downloading humanize-4.12.3-py3-none-any.whl.metadata (7.8 kB)\n",
      "Requirement already satisfied: google-api-core!=2.0.*,!=2.1.*,!=2.10.*,!=2.2.*,!=2.3.*,!=2.4.*,!=2.5.*,!=2.6.*,!=2.7.*,!=2.8.*,!=2.9.*,<3.0.0,>=1.34.1 in /opt/conda/lib/python3.10/site-packages (from google-api-core[grpc]!=2.0.*,!=2.1.*,!=2.10.*,!=2.2.*,!=2.3.*,!=2.4.*,!=2.5.*,!=2.6.*,!=2.7.*,!=2.8.*,!=2.9.*,<3.0.0,>=1.34.1->google-cloud-discoveryengine) (2.24.2)\n",
      "Requirement already satisfied: google-auth!=2.24.0,!=2.25.0,<3.0.0,>=2.14.1 in /opt/conda/lib/python3.10/site-packages (from google-cloud-discoveryengine) (2.38.0)\n",
      "Requirement already satisfied: proto-plus<2.0.0,>=1.22.3 in /opt/conda/lib/python3.10/site-packages (from google-cloud-discoveryengine) (1.26.1)\n",
      "Requirement already satisfied: protobuf!=4.21.0,!=4.21.1,!=4.21.2,!=4.21.3,!=4.21.4,!=4.21.5,<7.0.0,>=3.20.2 in /opt/conda/lib/python3.10/site-packages (from google-cloud-discoveryengine) (3.20.3)\n",
      "Requirement already satisfied: googleapis-common-protos<2.0.0,>=1.56.2 in /opt/conda/lib/python3.10/site-packages (from google-api-core!=2.0.*,!=2.1.*,!=2.10.*,!=2.2.*,!=2.3.*,!=2.4.*,!=2.5.*,!=2.6.*,!=2.7.*,!=2.8.*,!=2.9.*,<3.0.0,>=1.34.1->google-api-core[grpc]!=2.0.*,!=2.1.*,!=2.10.*,!=2.2.*,!=2.3.*,!=2.4.*,!=2.5.*,!=2.6.*,!=2.7.*,!=2.8.*,!=2.9.*,<3.0.0,>=1.34.1->google-cloud-discoveryengine) (1.69.2)\n",
      "Requirement already satisfied: requests<3.0.0,>=2.18.0 in /opt/conda/lib/python3.10/site-packages (from google-api-core!=2.0.*,!=2.1.*,!=2.10.*,!=2.2.*,!=2.3.*,!=2.4.*,!=2.5.*,!=2.6.*,!=2.7.*,!=2.8.*,!=2.9.*,<3.0.0,>=1.34.1->google-api-core[grpc]!=2.0.*,!=2.1.*,!=2.10.*,!=2.2.*,!=2.3.*,!=2.4.*,!=2.5.*,!=2.6.*,!=2.7.*,!=2.8.*,!=2.9.*,<3.0.0,>=1.34.1->google-cloud-discoveryengine) (2.32.3)\n",
      "Requirement already satisfied: grpcio<2.0dev,>=1.33.2 in /opt/conda/lib/python3.10/site-packages (from google-api-core[grpc]!=2.0.*,!=2.1.*,!=2.10.*,!=2.2.*,!=2.3.*,!=2.4.*,!=2.5.*,!=2.6.*,!=2.7.*,!=2.8.*,!=2.9.*,<3.0.0,>=1.34.1->google-cloud-discoveryengine) (1.71.0)\n",
      "Requirement already satisfied: grpcio-status<2.0.dev0,>=1.33.2 in /opt/conda/lib/python3.10/site-packages (from google-api-core[grpc]!=2.0.*,!=2.1.*,!=2.10.*,!=2.2.*,!=2.3.*,!=2.4.*,!=2.5.*,!=2.6.*,!=2.7.*,!=2.8.*,!=2.9.*,<3.0.0,>=1.34.1->google-cloud-discoveryengine) (1.49.0rc1)\n",
      "Requirement already satisfied: cachetools<6.0,>=2.0.0 in /opt/conda/lib/python3.10/site-packages (from google-auth!=2.24.0,!=2.25.0,<3.0.0,>=2.14.1->google-cloud-discoveryengine) (5.5.2)\n",
      "Requirement already satisfied: pyasn1-modules>=0.2.1 in /opt/conda/lib/python3.10/site-packages (from google-auth!=2.24.0,!=2.25.0,<3.0.0,>=2.14.1->google-cloud-discoveryengine) (0.4.2)\n",
      "Requirement already satisfied: rsa<5,>=3.1.4 in /opt/conda/lib/python3.10/site-packages (from google-auth!=2.24.0,!=2.25.0,<3.0.0,>=2.14.1->google-cloud-discoveryengine) (4.9)\n",
      "Requirement already satisfied: pyasn1<0.7.0,>=0.6.1 in /opt/conda/lib/python3.10/site-packages (from pyasn1-modules>=0.2.1->google-auth!=2.24.0,!=2.25.0,<3.0.0,>=2.14.1->google-cloud-discoveryengine) (0.6.1)\n",
      "Requirement already satisfied: charset_normalizer<4,>=2 in /opt/conda/lib/python3.10/site-packages (from requests<3.0.0,>=2.18.0->google-api-core!=2.0.*,!=2.1.*,!=2.10.*,!=2.2.*,!=2.3.*,!=2.4.*,!=2.5.*,!=2.6.*,!=2.7.*,!=2.8.*,!=2.9.*,<3.0.0,>=1.34.1->google-api-core[grpc]!=2.0.*,!=2.1.*,!=2.10.*,!=2.2.*,!=2.3.*,!=2.4.*,!=2.5.*,!=2.6.*,!=2.7.*,!=2.8.*,!=2.9.*,<3.0.0,>=1.34.1->google-cloud-discoveryengine) (3.4.1)\n",
      "Requirement already satisfied: idna<4,>=2.5 in /opt/conda/lib/python3.10/site-packages (from requests<3.0.0,>=2.18.0->google-api-core!=2.0.*,!=2.1.*,!=2.10.*,!=2.2.*,!=2.3.*,!=2.4.*,!=2.5.*,!=2.6.*,!=2.7.*,!=2.8.*,!=2.9.*,<3.0.0,>=1.34.1->google-api-core[grpc]!=2.0.*,!=2.1.*,!=2.10.*,!=2.2.*,!=2.3.*,!=2.4.*,!=2.5.*,!=2.6.*,!=2.7.*,!=2.8.*,!=2.9.*,<3.0.0,>=1.34.1->google-cloud-discoveryengine) (3.10)\n",
      "Requirement already satisfied: urllib3<3,>=1.21.1 in /opt/conda/lib/python3.10/site-packages (from requests<3.0.0,>=2.18.0->google-api-core!=2.0.*,!=2.1.*,!=2.10.*,!=2.2.*,!=2.3.*,!=2.4.*,!=2.5.*,!=2.6.*,!=2.7.*,!=2.8.*,!=2.9.*,<3.0.0,>=1.34.1->google-api-core[grpc]!=2.0.*,!=2.1.*,!=2.10.*,!=2.2.*,!=2.3.*,!=2.4.*,!=2.5.*,!=2.6.*,!=2.7.*,!=2.8.*,!=2.9.*,<3.0.0,>=1.34.1->google-cloud-discoveryengine) (1.26.20)\n",
      "Requirement already satisfied: certifi>=2017.4.17 in /opt/conda/lib/python3.10/site-packages (from requests<3.0.0,>=2.18.0->google-api-core!=2.0.*,!=2.1.*,!=2.10.*,!=2.2.*,!=2.3.*,!=2.4.*,!=2.5.*,!=2.6.*,!=2.7.*,!=2.8.*,!=2.9.*,<3.0.0,>=1.34.1->google-api-core[grpc]!=2.0.*,!=2.1.*,!=2.10.*,!=2.2.*,!=2.3.*,!=2.4.*,!=2.5.*,!=2.6.*,!=2.7.*,!=2.8.*,!=2.9.*,<3.0.0,>=1.34.1->google-cloud-discoveryengine) (2025.1.31)\n",
      "Downloading google_cloud_discoveryengine-0.13.8-py3-none-any.whl (3.0 MB)\n",
      "\u001b[2K   \u001b[90m━━━━━━━━━━━━━━━━━━━━━━━━━━━━━━━━━━━━━━━━\u001b[0m \u001b[32m3.0/3.0 MB\u001b[0m \u001b[31m38.7 MB/s\u001b[0m eta \u001b[36m0:00:00\u001b[0m\n",
      "\u001b[?25hDownloading humanize-4.12.3-py3-none-any.whl (128 kB)\n",
      "Installing collected packages: humanize, google-cloud-discoveryengine\n",
      "  Attempting uninstall: humanize\n",
      "    Found existing installation: humanize 4.12.2\n",
      "    Uninstalling humanize-4.12.2:\n",
      "      Successfully uninstalled humanize-4.12.2\n",
      "Successfully installed google-cloud-discoveryengine-0.13.8 humanize-4.12.3\n",
      "Note: you may need to restart the kernel to use updated packages.\n"
     ]
    }
   ],
   "source": [
    "pip install --upgrade google-cloud-discoveryengine humanize"
   ]
  },
  {
   "cell_type": "code",
   "execution_count": null,
   "id": "7282c2c9-3069-4b6e-bbf0-0c4f7e91a8e2",
   "metadata": {},
   "outputs": [],
   "source": [
    "Setup the helper methods"
   ]
  },
  {
   "cell_type": "code",
   "execution_count": 1,
   "id": "ae3f07e2-c5e1-4749-bfe1-c690d0834056",
   "metadata": {
    "tags": []
   },
   "outputs": [],
   "source": [
    "import humanize\n",
    "import time\n",
    "import re\n",
    "from typing import List, Optional\n",
    "\n",
    "from google.api_core.client_options import ClientOptions\n",
    "from google.cloud import discoveryengine_v1beta as discoveryengine\n",
    "\n",
    "\n",
    "def _call_list_documents(\n",
    "    project_id: str, location: str, datastore_id: str, page_token: Optional[str] = None\n",
    ") -> discoveryengine.ListDocumentsResponse:\n",
    "    \"\"\"Build the List Docs Request payload.\"\"\"\n",
    "    client_options = (\n",
    "        ClientOptions(\n",
    "            api_endpoint=f\"{location}-discoveryengine.googleapis.com\")\n",
    "        if location != \"global\"\n",
    "        else None\n",
    "    )\n",
    "    client = discoveryengine.DocumentServiceClient(\n",
    "        client_options=client_options)\n",
    "\n",
    "    request = discoveryengine.ListDocumentsRequest(\n",
    "        parent=client.branch_path(\n",
    "            project_id, location, datastore_id, \"default_branch\"\n",
    "        ),\n",
    "        page_size=1000,\n",
    "        page_token=page_token,\n",
    "    )\n",
    "\n",
    "    return client.list_documents(request=request)\n",
    "\n",
    "\n",
    "def list_documents(\n",
    "    project_id: str, location: str, datastore_id: str, rate_limit: int = 1\n",
    ") -> List[discoveryengine.Document]:\n",
    "    \"\"\"Gets a list of docs in a datastore.\"\"\"\n",
    "\n",
    "    res = _call_list_documents(project_id, location, datastore_id)\n",
    "\n",
    "    # setup the list with the first batch of docs\n",
    "    docs = res.documents\n",
    "\n",
    "    while res.next_page_token:\n",
    "        # implement a rate_limit to prevent quota exhaustion\n",
    "        time.sleep(rate_limit)\n",
    "\n",
    "        res = _call_list_documents(\n",
    "            project_id, location, datastore_id, res.next_page_token\n",
    "        )\n",
    "        docs.extend(res.documents)\n",
    "\n",
    "    return docs\n",
    "\n",
    "\n",
    "def list_indexed_urls(\n",
    "    docs: Optional[List[discoveryengine.Document]] = None,\n",
    "    project_id: str = None,\n",
    "    location: str = None,\n",
    "    datastore_id: str = None,\n",
    ") -> List[str]:\n",
    "    \"\"\"Get the list of docs in data store, then parse to only urls.\"\"\"\n",
    "    if not docs:\n",
    "        docs = list_documents(project_id, location, datastore_id)\n",
    "    urls = [doc.content.uri for doc in docs]\n",
    "\n",
    "    return urls\n",
    "\n",
    "\n",
    "def search_url(urls: List[str], url: str) -> None:\n",
    "    \"\"\"Searches a url in a list of urls.\"\"\"\n",
    "    for item in urls:\n",
    "        if url in item:\n",
    "            print(item)\n",
    "\n",
    "\n",
    "def search_doc_id(\n",
    "    doc_id: str,\n",
    "    docs: Optional[List[discoveryengine.Document]] = None,\n",
    "    project_id: str = None,\n",
    "    location: str = None,\n",
    "    datastore_id: str = None,\n",
    ") -> None:\n",
    "    \"\"\"Searches a doc_id in a list of docs.\"\"\"\n",
    "    if not docs:\n",
    "        docs = list_documents(project_id, location, datastore_id)\n",
    "\n",
    "    doc_found = False\n",
    "    for doc in docs:\n",
    "        if doc.parent_document_id == doc_id:\n",
    "            doc_found = True\n",
    "            print(doc)\n",
    "\n",
    "    if not doc_found:\n",
    "        print(f\"Document not found for provided Doc ID: `{doc_id}`\")\n",
    "\n",
    "\n",
    "def estimate_data_store_size(\n",
    "    urls: Optional[List[str]] = None,\n",
    "    docs: Optional[List[discoveryengine.Document]] = None,\n",
    "    project_id: str = None,\n",
    "    location: str = None,\n",
    "    datastore_id: str = None,\n",
    ") -> None:\n",
    "    \"\"\"For Advanced Website Indexing data stores only.\"\"\"\n",
    "    if not urls:\n",
    "        if not docs:\n",
    "            docs = list_documents(project_id, location, datastore_id)\n",
    "        urls = list_indexed_urls(docs=docs)\n",
    "\n",
    "    # Filter to only include website urls.\n",
    "    urls = list(filter(lambda x: re.search(r\"https?://\", x), urls))\n",
    "\n",
    "    if not urls:\n",
    "        print(\n",
    "            \"No urls found. Make sure this data store is for websites with advanced indexing.\"\n",
    "        )\n",
    "        return\n",
    "\n",
    "    # For website indexing, each page is calculated as 500KB.\n",
    "    size = len(urls) * 500_000\n",
    "    print(f\"Estimated data store size: {humanize.naturalsize(size)}\")\n",
    "\n",
    "\n",
    "PENDING_MESSAGE = \"\"\"\n",
    "No docs found.\\n\\nIt\\'s likely one of the following issues: \\n  [1] Your data store is not finished indexing. \\n  [2] Your data store failed indexing. \\n  [3] Your data store is for website data without advanced indexing.\\n\\n\n",
    "If you just added your data store, it can take up to 4 hours before it will become available.\n",
    "\"\"\""
   ]
  },
  {
   "cell_type": "code",
   "execution_count": 3,
   "id": "486f57ed-830e-481f-8a3d-212781b80dd8",
   "metadata": {
    "tags": []
   },
   "outputs": [],
   "source": [
    "# Go Create New Data Store\n",
    "# Once Created and the data is in the Data Store Google should start Auto Indexing it"
   ]
  },
  {
   "cell_type": "code",
   "execution_count": null,
   "id": "55900250-d276-46de-9209-61268a0a505b",
   "metadata": {},
   "outputs": [],
   "source": [
    "# To check if it is indexing it or alr indexing it do the following:"
   ]
  },
  {
   "cell_type": "code",
   "execution_count": 5,
   "id": "bba540b3-587a-40d5-9e50-2cd3be610f24",
   "metadata": {
    "tags": []
   },
   "outputs": [],
   "source": [
    "#  Set variable\n",
    "PROJECT = !gcloud config get-value project\n",
    "project_id  = PROJECT[0]\n",
    "location = \"global\"  # Options: \"global\", \"us\", \"eu\"\n",
    "datastore_id = \"cymbaldatastore_1748410789208\""
   ]
  },
  {
   "cell_type": "code",
   "execution_count": 7,
   "id": "ebf05677-95a7-4502-8def-9888cb7d849f",
   "metadata": {
    "tags": []
   },
   "outputs": [
    {
     "name": "stdout",
     "output_type": "stream",
     "text": [
      "\n",
      "No docs found.\n",
      "\n",
      "It's likely one of the following issues: \n",
      "  [1] Your data store is not finished indexing. \n",
      "  [2] Your data store failed indexing. \n",
      "  [3] Your data store is for website data without advanced indexing.\n",
      "\n",
      "\n",
      "If you just added your data store, it can take up to 4 hours before it will become available.\n",
      "\n"
     ]
    }
   ],
   "source": [
    "# Run this to check\n",
    "# Failed or inprocess indexing\n",
    "docs = list_documents(project_id, location, datastore_id)\n",
    "\n",
    "if len(docs) == 0:\n",
    "    print(PENDING_MESSAGE)\n",
    "else:\n",
    "    SUCCESS_MESSAGE = f\"\"\"\n",
    "  Success! 🎉\\n\n",
    "  Your indexing is complete.\\n\n",
    "  Your index contains {len(docs)} documents.\n",
    "  \"\"\"\n",
    "    print(SUCCESS_MESSAGE)"
   ]
  },
  {
   "cell_type": "code",
   "execution_count": 10,
   "id": "2a024641-87a0-41fc-8fa2-340619ed02de",
   "metadata": {
    "tags": []
   },
   "outputs": [
    {
     "name": "stdout",
     "output_type": "stream",
     "text": [
      "\n",
      "  Success! 🎉\n",
      "\n",
      "  Your indexing is complete.\n",
      "\n",
      "  Your index contains 79 documents.\n",
      "  \n"
     ]
    }
   ],
   "source": [
    "# Run this to check\n",
    "docs = list_documents(project_id, location, datastore_id)\n",
    "\n",
    "if len(docs) == 0:\n",
    "    print(PENDING_MESSAGE)\n",
    "else:\n",
    "    SUCCESS_MESSAGE = f\"\"\"\n",
    "  Success! 🎉\\n\n",
    "  Your indexing is complete.\\n\n",
    "  Your index contains {len(docs)} documents.\n",
    "  \"\"\"\n",
    "    print(SUCCESS_MESSAGE)\n",
    "    \n",
    "# You Should See This\n",
    "# Success!\n",
    "# Your indexing is complete.\n",
    "# Your index contains 79 documents."
   ]
  },
  {
   "cell_type": "code",
   "execution_count": null,
   "id": "c9c0ba67-cbda-45d9-8f3e-19f8e2f332d1",
   "metadata": {},
   "outputs": [],
   "source": [
    "# List Documents\n",
    "# list all the documents for a given Data Store ID"
   ]
  },
  {
   "cell_type": "code",
   "execution_count": 11,
   "id": "a44a895d-d17c-4578-9d29-1288e63363a0",
   "metadata": {
    "tags": []
   },
   "outputs": [
    {
     "data": {
      "text/plain": [
       "name: \"projects/849488826744/locations/global/collections/default_collection/dataStores/cymbaldatastore_1748410789208/branches/0/documents/01c3140622cfed9a86572e550ed049a0\"\n",
       "id: \"01c3140622cfed9a86572e550ed049a0\"\n",
       "schema_id: \"default_schema\"\n",
       "struct_data {\n",
       "}\n",
       "parent_document_id: \"01c3140622cfed9a86572e550ed049a0\"\n",
       "content {\n",
       "  mime_type: \"text/html\"\n",
       "  uri: \"gs://cloud-samples-data/dialogflow-cx/arc-lifeblood/testing.html\"\n",
       "}\n",
       "index_time {\n",
       "  seconds: 1748411326\n",
       "  nanos: 108496437\n",
       "}\n",
       "index_status {\n",
       "  index_time {\n",
       "    seconds: 1748411326\n",
       "    nanos: 108496437\n",
       "  }\n",
       "}"
      ]
     },
     "execution_count": 11,
     "metadata": {},
     "output_type": "execute_result"
    }
   ],
   "source": [
    "docs = list_documents(project_id, location, datastore_id)\n",
    "docs[0]"
   ]
  },
  {
   "cell_type": "code",
   "execution_count": null,
   "id": "45813a5b-1421-4f8f-965a-ef89b7f2fb79",
   "metadata": {},
   "outputs": [],
   "source": [
    "# Search Data Store by Doc ID\n",
    "# Let's search through all docs in a given Data Store and find a specific Doc ID.\n",
    "# In the following command, replace the placeholder_document_id with the value of parent_document_id from the last output."
   ]
  },
  {
   "cell_type": "code",
   "execution_count": 14,
   "id": "312b753b-714e-4940-8ccf-1a65e422908b",
   "metadata": {
    "tags": []
   },
   "outputs": [
    {
     "name": "stdout",
     "output_type": "stream",
     "text": [
      "name: \"projects/849488826744/locations/global/collections/default_collection/dataStores/cymbaldatastore_1748410789208/branches/0/documents/01c3140622cfed9a86572e550ed049a0\"\n",
      "id: \"01c3140622cfed9a86572e550ed049a0\"\n",
      "schema_id: \"default_schema\"\n",
      "struct_data {\n",
      "}\n",
      "parent_document_id: \"01c3140622cfed9a86572e550ed049a0\"\n",
      "content {\n",
      "  mime_type: \"text/html\"\n",
      "  uri: \"gs://cloud-samples-data/dialogflow-cx/arc-lifeblood/testing.html\"\n",
      "}\n",
      "index_time {\n",
      "  seconds: 1748411326\n",
      "  nanos: 108496437\n",
      "}\n",
      "index_status {\n",
      "  index_time {\n",
      "    seconds: 1748411326\n",
      "    nanos: 108496437\n",
      "  }\n",
      "}\n",
      "\n"
     ]
    }
   ],
   "source": [
    "# document_id = \"placeholder_document_id\"\n",
    "# search_doc_id(document_id, docs=docs)\n",
    "\n",
    "document_id = \"01c3140622cfed9a86572e550ed049a0\"\n",
    "search_doc_id(document_id, docs=docs)"
   ]
  },
  {
   "cell_type": "code",
   "execution_count": null,
   "id": "92f99bed-3964-4b92-bc8a-e5130441f46e",
   "metadata": {},
   "outputs": [],
   "source": [
    "# List Indexed URLs\n",
    "# Run the following code snippet in the next notebook cell, to retrieve a indexed URL."
   ]
  },
  {
   "cell_type": "code",
   "execution_count": 15,
   "id": "0eb39938-a161-4ee0-9069-e56a5bda1a05",
   "metadata": {
    "tags": []
   },
   "outputs": [
    {
     "data": {
      "text/plain": [
       "'gs://cloud-samples-data/dialogflow-cx/arc-lifeblood/testing.html'"
      ]
     },
     "execution_count": 15,
     "metadata": {},
     "output_type": "execute_result"
    }
   ],
   "source": [
    "urls = list_indexed_urls(docs=docs)\n",
    "urls[0]"
   ]
  },
  {
   "cell_type": "code",
   "execution_count": null,
   "id": "c6361d11-ab7d-4c81-8420-7e659691e336",
   "metadata": {},
   "outputs": [],
   "source": [
    "# Search Indexed URLs\n",
    "# Run the following code snippet in the next notebook cell, \n",
    "# to search for a specific URL within a list of indexed URLs."
   ]
  },
  {
   "cell_type": "code",
   "execution_count": 16,
   "id": "7342b6c2-f56e-46d7-854b-7b0994db69a0",
   "metadata": {
    "tags": []
   },
   "outputs": [
    {
     "name": "stdout",
     "output_type": "stream",
     "text": [
      "gs://cloud-samples-data/dialogflow-cx/arc-lifeblood/testing.html\n",
      "gs://cloud-samples-data/dialogflow-cx/arc-lifeblood/strategy.html\n",
      "gs://cloud-samples-data/dialogflow-cx/arc-lifeblood/making-blood-components.html\n",
      "gs://cloud-samples-data/dialogflow-cx/arc-lifeblood/making-your-donation.html\n",
      "gs://cloud-samples-data/dialogflow-cx/arc-lifeblood/products.html\n",
      "gs://cloud-samples-data/dialogflow-cx/arc-lifeblood/high-ferritin.html\n",
      "gs://cloud-samples-data/dialogflow-cx/arc-lifeblood/forms.html\n",
      "gs://cloud-samples-data/dialogflow-cx/arc-lifeblood/blood-for-transfusion.html\n",
      "gs://cloud-samples-data/dialogflow-cx/arc-lifeblood/how-you-can-give-life.html\n",
      "gs://cloud-samples-data/dialogflow-cx/arc-lifeblood/transplantation-immunogenetics-services.html\n",
      "gs://cloud-samples-data/dialogflow-cx/arc-lifeblood/blood.html\n",
      "gs://cloud-samples-data/dialogflow-cx/arc-lifeblood/prepare-and-aftercare.html\n",
      "gs://cloud-samples-data/dialogflow-cx/arc-lifeblood/our-strategy.html\n",
      "gs://cloud-samples-data/dialogflow-cx/arc-lifeblood/our-history.html\n",
      "gs://cloud-samples-data/dialogflow-cx/arc-lifeblood/our-services.html\n",
      "gs://cloud-samples-data/dialogflow-cx/arc-lifeblood/about.html\n",
      "gs://cloud-samples-data/dialogflow-cx/arc-lifeblood/iron-deficiency.html\n",
      "gs://cloud-samples-data/dialogflow-cx/arc-lifeblood/iron-health.html\n",
      "gs://cloud-samples-data/dialogflow-cx/arc-lifeblood/donor-centre.html\n",
      "gs://cloud-samples-data/dialogflow-cx/arc-lifeblood/fainting.html\n",
      "gs://cloud-samples-data/dialogflow-cx/arc-lifeblood/reasons-for-a-transfusion.html\n",
      "gs://cloud-samples-data/dialogflow-cx/arc-lifeblood/sexual-activity.html\n",
      "gs://cloud-samples-data/dialogflow-cx/arc-lifeblood/learn-about-blood.html\n",
      "gs://cloud-samples-data/dialogflow-cx/arc-lifeblood/avoid-a-transfusion.html\n",
      "gs://cloud-samples-data/dialogflow-cx/arc-lifeblood/relax-when-giving-blood.html\n",
      "gs://cloud-samples-data/dialogflow-cx/arc-lifeblood/our-research.html\n",
      "gs://cloud-samples-data/dialogflow-cx/arc-lifeblood/milk-research.html\n",
      "gs://cloud-samples-data/dialogflow-cx/arc-lifeblood/donating-after-travelling.html\n",
      "gs://cloud-samples-data/dialogflow-cx/arc-lifeblood/trending-research.html\n",
      "gs://cloud-samples-data/dialogflow-cx/arc-lifeblood/become-a-milk-donor.html\n",
      "gs://cloud-samples-data/dialogflow-cx/arc-lifeblood/milk-donation-guide.html\n",
      "gs://cloud-samples-data/dialogflow-cx/arc-lifeblood/serum-eyedrops.html\n",
      "gs://cloud-samples-data/dialogflow-cx/arc-lifeblood/resources.html\n",
      "gs://cloud-samples-data/dialogflow-cx/arc-lifeblood/training.html\n",
      "gs://cloud-samples-data/dialogflow-cx/arc-lifeblood/resource-library.html\n",
      "gs://cloud-samples-data/dialogflow-cx/arc-lifeblood/blood-types.html\n",
      "gs://cloud-samples-data/dialogflow-cx/arc-lifeblood/milk.html\n",
      "gs://cloud-samples-data/dialogflow-cx/arc-lifeblood/matching-blood-groups.html\n",
      "gs://cloud-samples-data/dialogflow-cx/arc-lifeblood/parents.html\n",
      "gs://cloud-samples-data/dialogflow-cx/arc-lifeblood/blood-stem-cell.html\n",
      "gs://cloud-samples-data/dialogflow-cx/arc-lifeblood/anaemia.html\n",
      "gs://cloud-samples-data/dialogflow-cx/arc-lifeblood/information-for-suppliers.html\n",
      "gs://cloud-samples-data/dialogflow-cx/arc-lifeblood/news-and-stories.html\n",
      "gs://cloud-samples-data/dialogflow-cx/arc-lifeblood/COVID-19-vaccine.html\n",
      "gs://cloud-samples-data/dialogflow-cx/arc-lifeblood/faq.html\n",
      "gs://cloud-samples-data/dialogflow-cx/arc-lifeblood/who-we-are.html\n",
      "gs://cloud-samples-data/dialogflow-cx/arc-lifeblood/receiving-a-transfusion.html\n",
      "gs://cloud-samples-data/dialogflow-cx/arc-lifeblood/why-donate-blood.html\n",
      "gs://cloud-samples-data/dialogflow-cx/arc-lifeblood/donate-as-a-group.html\n",
      "gs://cloud-samples-data/dialogflow-cx/arc-lifeblood/what-happens-to-your-blood.html\n",
      "gs://cloud-samples-data/dialogflow-cx/arc-lifeblood/our-people.html\n",
      "gs://cloud-samples-data/dialogflow-cx/arc-lifeblood/organ-and-tissue.html\n",
      "gs://cloud-samples-data/dialogflow-cx/arc-lifeblood/inventory-management.html\n",
      "gs://cloud-samples-data/dialogflow-cx/arc-lifeblood/plasma.html\n",
      "gs://cloud-samples-data/dialogflow-cx/arc-lifeblood/featured-resources.html\n",
      "gs://cloud-samples-data/dialogflow-cx/arc-lifeblood/types-of-transfusions.html\n",
      "gs://cloud-samples-data/dialogflow-cx/arc-lifeblood/careers.html\n",
      "gs://cloud-samples-data/dialogflow-cx/arc-lifeblood/partner-with-us.html\n",
      "gs://cloud-samples-data/dialogflow-cx/arc-lifeblood/eligibility.html\n",
      "gs://cloud-samples-data/dialogflow-cx/arc-lifeblood/index.html\n",
      "gs://cloud-samples-data/dialogflow-cx/arc-lifeblood/red-cell-reference.html\n",
      "gs://cloud-samples-data/dialogflow-cx/arc-lifeblood/privacy.html\n",
      "gs://cloud-samples-data/dialogflow-cx/arc-lifeblood/know-the-risks.html\n",
      "gs://cloud-samples-data/dialogflow-cx/arc-lifeblood/global-search-footer.html\n",
      "gs://cloud-samples-data/dialogflow-cx/arc-lifeblood/program.html\n",
      "gs://cloud-samples-data/dialogflow-cx/arc-lifeblood/learn.html\n",
      "gs://cloud-samples-data/dialogflow-cx/arc-lifeblood/blood-testing-and-safety.html\n",
      "gs://cloud-samples-data/dialogflow-cx/arc-lifeblood/patients.html\n",
      "gs://cloud-samples-data/dialogflow-cx/arc-lifeblood/health-professionals.html\n",
      "gs://cloud-samples-data/dialogflow-cx/arc-lifeblood/disclaimer.html\n",
      "gs://cloud-samples-data/dialogflow-cx/arc-lifeblood/microbiome.html\n",
      "gs://cloud-samples-data/dialogflow-cx/arc-lifeblood/clinical-practice.html\n",
      "gs://cloud-samples-data/dialogflow-cx/arc-lifeblood/quiz.html\n",
      "gs://cloud-samples-data/dialogflow-cx/arc-lifeblood/safety.html\n",
      "gs://cloud-samples-data/dialogflow-cx/arc-lifeblood/coronavirus.html\n",
      "gs://cloud-samples-data/dialogflow-cx/arc-lifeblood/start-quiz.html\n",
      "gs://cloud-samples-data/dialogflow-cx/arc-lifeblood/meet-our-researchers.html\n",
      "gs://cloud-samples-data/dialogflow-cx/arc-lifeblood/contact.html\n",
      "gs://cloud-samples-data/dialogflow-cx/arc-lifeblood/platelets.html\n"
     ]
    }
   ],
   "source": [
    "search_url(urls, \"gs://cloud-samples-data/dialogflow-cx/arc-lifeblood\")"
   ]
  },
  {
   "cell_type": "code",
   "execution_count": null,
   "id": "86d75253-e90a-41b2-87d8-109c64ce2bda",
   "metadata": {},
   "outputs": [],
   "source": [
    "# Run the below code in the notebook cell, and should have similar output"
   ]
  },
  {
   "cell_type": "code",
   "execution_count": 17,
   "id": "1c7aacce-c643-4db6-addd-ae81e2df4b1f",
   "metadata": {
    "tags": []
   },
   "outputs": [
    {
     "name": "stdout",
     "output_type": "stream",
     "text": [
      "gs://cloud-samples-data/dialogflow-cx/arc-lifeblood/testing.html\n",
      "gs://cloud-samples-data/dialogflow-cx/arc-lifeblood/strategy.html\n",
      "gs://cloud-samples-data/dialogflow-cx/arc-lifeblood/making-blood-components.html\n",
      "gs://cloud-samples-data/dialogflow-cx/arc-lifeblood/making-your-donation.html\n",
      "gs://cloud-samples-data/dialogflow-cx/arc-lifeblood/products.html\n",
      "gs://cloud-samples-data/dialogflow-cx/arc-lifeblood/high-ferritin.html\n",
      "gs://cloud-samples-data/dialogflow-cx/arc-lifeblood/forms.html\n",
      "gs://cloud-samples-data/dialogflow-cx/arc-lifeblood/blood-for-transfusion.html\n",
      "gs://cloud-samples-data/dialogflow-cx/arc-lifeblood/how-you-can-give-life.html\n",
      "gs://cloud-samples-data/dialogflow-cx/arc-lifeblood/transplantation-immunogenetics-services.html\n",
      "gs://cloud-samples-data/dialogflow-cx/arc-lifeblood/blood.html\n",
      "gs://cloud-samples-data/dialogflow-cx/arc-lifeblood/prepare-and-aftercare.html\n",
      "gs://cloud-samples-data/dialogflow-cx/arc-lifeblood/our-strategy.html\n",
      "gs://cloud-samples-data/dialogflow-cx/arc-lifeblood/our-history.html\n",
      "gs://cloud-samples-data/dialogflow-cx/arc-lifeblood/our-services.html\n",
      "gs://cloud-samples-data/dialogflow-cx/arc-lifeblood/about.html\n",
      "gs://cloud-samples-data/dialogflow-cx/arc-lifeblood/iron-deficiency.html\n",
      "gs://cloud-samples-data/dialogflow-cx/arc-lifeblood/iron-health.html\n",
      "gs://cloud-samples-data/dialogflow-cx/arc-lifeblood/donor-centre.html\n",
      "gs://cloud-samples-data/dialogflow-cx/arc-lifeblood/fainting.html\n",
      "gs://cloud-samples-data/dialogflow-cx/arc-lifeblood/reasons-for-a-transfusion.html\n",
      "gs://cloud-samples-data/dialogflow-cx/arc-lifeblood/sexual-activity.html\n",
      "gs://cloud-samples-data/dialogflow-cx/arc-lifeblood/learn-about-blood.html\n",
      "gs://cloud-samples-data/dialogflow-cx/arc-lifeblood/avoid-a-transfusion.html\n",
      "gs://cloud-samples-data/dialogflow-cx/arc-lifeblood/relax-when-giving-blood.html\n",
      "gs://cloud-samples-data/dialogflow-cx/arc-lifeblood/our-research.html\n",
      "gs://cloud-samples-data/dialogflow-cx/arc-lifeblood/milk-research.html\n",
      "gs://cloud-samples-data/dialogflow-cx/arc-lifeblood/donating-after-travelling.html\n",
      "gs://cloud-samples-data/dialogflow-cx/arc-lifeblood/trending-research.html\n",
      "gs://cloud-samples-data/dialogflow-cx/arc-lifeblood/become-a-milk-donor.html\n",
      "gs://cloud-samples-data/dialogflow-cx/arc-lifeblood/milk-donation-guide.html\n",
      "gs://cloud-samples-data/dialogflow-cx/arc-lifeblood/serum-eyedrops.html\n",
      "gs://cloud-samples-data/dialogflow-cx/arc-lifeblood/resources.html\n",
      "gs://cloud-samples-data/dialogflow-cx/arc-lifeblood/training.html\n",
      "gs://cloud-samples-data/dialogflow-cx/arc-lifeblood/resource-library.html\n",
      "gs://cloud-samples-data/dialogflow-cx/arc-lifeblood/blood-types.html\n",
      "gs://cloud-samples-data/dialogflow-cx/arc-lifeblood/milk.html\n",
      "gs://cloud-samples-data/dialogflow-cx/arc-lifeblood/matching-blood-groups.html\n",
      "gs://cloud-samples-data/dialogflow-cx/arc-lifeblood/parents.html\n",
      "gs://cloud-samples-data/dialogflow-cx/arc-lifeblood/blood-stem-cell.html\n",
      "gs://cloud-samples-data/dialogflow-cx/arc-lifeblood/anaemia.html\n",
      "gs://cloud-samples-data/dialogflow-cx/arc-lifeblood/information-for-suppliers.html\n",
      "gs://cloud-samples-data/dialogflow-cx/arc-lifeblood/news-and-stories.html\n",
      "gs://cloud-samples-data/dialogflow-cx/arc-lifeblood/COVID-19-vaccine.html\n",
      "gs://cloud-samples-data/dialogflow-cx/arc-lifeblood/faq.html\n",
      "gs://cloud-samples-data/dialogflow-cx/arc-lifeblood/who-we-are.html\n",
      "gs://cloud-samples-data/dialogflow-cx/arc-lifeblood/receiving-a-transfusion.html\n",
      "gs://cloud-samples-data/dialogflow-cx/arc-lifeblood/why-donate-blood.html\n",
      "gs://cloud-samples-data/dialogflow-cx/arc-lifeblood/donate-as-a-group.html\n",
      "gs://cloud-samples-data/dialogflow-cx/arc-lifeblood/what-happens-to-your-blood.html\n",
      "gs://cloud-samples-data/dialogflow-cx/arc-lifeblood/our-people.html\n",
      "gs://cloud-samples-data/dialogflow-cx/arc-lifeblood/organ-and-tissue.html\n",
      "gs://cloud-samples-data/dialogflow-cx/arc-lifeblood/inventory-management.html\n",
      "gs://cloud-samples-data/dialogflow-cx/arc-lifeblood/plasma.html\n",
      "gs://cloud-samples-data/dialogflow-cx/arc-lifeblood/featured-resources.html\n",
      "gs://cloud-samples-data/dialogflow-cx/arc-lifeblood/types-of-transfusions.html\n",
      "gs://cloud-samples-data/dialogflow-cx/arc-lifeblood/careers.html\n",
      "gs://cloud-samples-data/dialogflow-cx/arc-lifeblood/partner-with-us.html\n",
      "gs://cloud-samples-data/dialogflow-cx/arc-lifeblood/eligibility.html\n",
      "gs://cloud-samples-data/dialogflow-cx/arc-lifeblood/index.html\n",
      "gs://cloud-samples-data/dialogflow-cx/arc-lifeblood/red-cell-reference.html\n",
      "gs://cloud-samples-data/dialogflow-cx/arc-lifeblood/privacy.html\n",
      "gs://cloud-samples-data/dialogflow-cx/arc-lifeblood/know-the-risks.html\n",
      "gs://cloud-samples-data/dialogflow-cx/arc-lifeblood/global-search-footer.html\n",
      "gs://cloud-samples-data/dialogflow-cx/arc-lifeblood/program.html\n",
      "gs://cloud-samples-data/dialogflow-cx/arc-lifeblood/learn.html\n",
      "gs://cloud-samples-data/dialogflow-cx/arc-lifeblood/blood-testing-and-safety.html\n",
      "gs://cloud-samples-data/dialogflow-cx/arc-lifeblood/patients.html\n",
      "gs://cloud-samples-data/dialogflow-cx/arc-lifeblood/health-professionals.html\n",
      "gs://cloud-samples-data/dialogflow-cx/arc-lifeblood/disclaimer.html\n",
      "gs://cloud-samples-data/dialogflow-cx/arc-lifeblood/microbiome.html\n",
      "gs://cloud-samples-data/dialogflow-cx/arc-lifeblood/clinical-practice.html\n",
      "gs://cloud-samples-data/dialogflow-cx/arc-lifeblood/quiz.html\n",
      "gs://cloud-samples-data/dialogflow-cx/arc-lifeblood/safety.html\n",
      "gs://cloud-samples-data/dialogflow-cx/arc-lifeblood/coronavirus.html\n",
      "gs://cloud-samples-data/dialogflow-cx/arc-lifeblood/start-quiz.html\n",
      "gs://cloud-samples-data/dialogflow-cx/arc-lifeblood/meet-our-researchers.html\n",
      "gs://cloud-samples-data/dialogflow-cx/arc-lifeblood/contact.html\n",
      "gs://cloud-samples-data/dialogflow-cx/arc-lifeblood/platelets.html\n"
     ]
    }
   ],
   "source": [
    "search_url(urls, \"dialogflow-cx\")"
   ]
  },
  {
   "cell_type": "code",
   "execution_count": null,
   "id": "8140fe08-061e-4ca9-a49d-c75de4dd95e9",
   "metadata": {},
   "outputs": [],
   "source": []
  }
 ],
 "metadata": {
  "environment": {
   "kernel": "conda-base-py",
   "name": "workbench-notebooks.m129",
   "type": "gcloud",
   "uri": "us-docker.pkg.dev/deeplearning-platform-release/gcr.io/workbench-notebooks:m129"
  },
  "kernelspec": {
   "display_name": "Python 3 (ipykernel) (Local)",
   "language": "python",
   "name": "conda-base-py"
  },
  "language_info": {
   "codemirror_mode": {
    "name": "ipython",
    "version": 3
   },
   "file_extension": ".py",
   "mimetype": "text/x-python",
   "name": "python",
   "nbconvert_exporter": "python",
   "pygments_lexer": "ipython3",
   "version": "3.10.16"
  }
 },
 "nbformat": 4,
 "nbformat_minor": 5
}
